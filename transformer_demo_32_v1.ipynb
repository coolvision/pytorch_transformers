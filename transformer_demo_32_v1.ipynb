{
 "cells": [
  {
   "cell_type": "code",
   "execution_count": 1,
   "id": "cf448da1",
   "metadata": {},
   "outputs": [],
   "source": [
    "import io\n",
    "import math\n",
    "import torch\n",
    "import torch.nn as nn\n",
    "from torch import Tensor\n",
    "from torch.utils.data import Dataset, DataLoader, random_split\n",
    "from torchtext.vocab import build_vocab_from_iterator\n",
    "from torch.nn.utils.rnn import pad_sequence\n",
    "import pandas as pd\n",
    "import matplotlib.pyplot as plt\n",
    "\n",
    "# from tqdm import tqdm\n",
    "from tqdm.notebook import tqdm\n",
    "from time import sleep\n",
    "from timeit import default_timer as timer\n",
    "\n",
    "data = pd.read_csv('./data/rev_train_32.csv', header=None, sep=';')\n",
    "test_data = pd.read_csv('./data/rev_val_32.csv', header=None, sep=';')"
   ]
  },
  {
   "cell_type": "code",
   "execution_count": 2,
   "id": "b3b75f19",
   "metadata": {},
   "outputs": [
    {
     "name": "stdout",
     "output_type": "stream",
     "text": [
      "vocabulary 14\n"
     ]
    },
    {
     "data": {
      "text/plain": [
       "{'b': 12,\n",
       " 'e': 11,\n",
       " 'j': 4,\n",
       " '<unk>': 0,\n",
       " '<start>': 2,\n",
       " '<pad>': 1,\n",
       " 'i': 6,\n",
       " 'h': 13,\n",
       " 'd': 5,\n",
       " 'a': 9,\n",
       " 'g': 7,\n",
       " 'f': 10,\n",
       " '<eos>': 3,\n",
       " 'c': 8}"
      ]
     },
     "execution_count": 2,
     "metadata": {},
     "output_type": "execute_result"
    }
   ],
   "source": [
    "class ReverseStringsDataset(Dataset):\n",
    "    def __init__(self, data):\n",
    "        super(self.__class__, self).__init__()\n",
    "        self.inputs = data[0].values\n",
    "        self.outputs = data[1].values\n",
    "        \n",
    "    def __len__(self):\n",
    "        return len(self.inputs)\n",
    "\n",
    "    def __getitem__(self, idx):\n",
    "        return self.inputs[idx].strip(), self.outputs[idx].strip()\n",
    "    \n",
    "dataset = ReverseStringsDataset(data)\n",
    "\n",
    "def yield_tokens(dataset):\n",
    "    for i in range(len(dataset)):\n",
    "        yield dataset[i][0].strip().split() + dataset[i][1].strip().split()        \n",
    "        \n",
    "vocab = build_vocab_from_iterator(yield_tokens(dataset), \n",
    "                                      specials=['<unk>', '<pad>', '<start>', '<eos>'],\n",
    "                                      special_first=True)\n",
    "print(\"vocabulary\", len(vocab))\n",
    "vocab.get_stoi()"
   ]
  },
  {
   "cell_type": "code",
   "execution_count": 3,
   "id": "b93f90f0",
   "metadata": {},
   "outputs": [
    {
     "data": {
      "text/plain": [
       "(tensor([[ 2,  2,  2,  ...,  2,  2,  2],\n",
       "         [ 9,  5, 12,  ..., 12, 10, 10],\n",
       "         [10,  6,  7,  ..., 11,  5,  4],\n",
       "         ...,\n",
       "         [ 4,  8,  5,  ...,  7,  8,  4],\n",
       "         [ 5, 13,  5,  ..., 13, 11, 11],\n",
       "         [ 3,  3,  3,  ...,  3,  3,  3]]),\n",
       " tensor([[ 2,  2,  2,  ...,  2,  2,  2],\n",
       "         [ 5, 13,  5,  ..., 13, 11, 11],\n",
       "         [ 4,  8,  5,  ...,  7,  8,  4],\n",
       "         ...,\n",
       "         [10,  6,  7,  ..., 11,  5,  4],\n",
       "         [ 9,  5, 12,  ..., 12, 10, 10],\n",
       "         [ 3,  3,  3,  ...,  3,  3,  3]]))"
      ]
     },
     "execution_count": 3,
     "metadata": {},
     "output_type": "execute_result"
    }
   ],
   "source": [
    "def vocab_func(vocab):\n",
    "    def func(tok_iter):\n",
    "        return [vocab[tok] for tok in tok_iter]\n",
    "    return func\n",
    "\n",
    "start_idx = vocab['<start>']\n",
    "eos_idx = vocab['<eos>']\n",
    "pad_idx = vocab['<pad>']\n",
    "\n",
    "def totensor(dtype):\n",
    "    def func(ids_list):\n",
    "        return torch.cat((torch.tensor([start_idx]).to(dtype), \n",
    "                          torch.tensor(ids_list).to(dtype), \n",
    "                          torch.tensor([eos_idx]).to(dtype)))  \n",
    "    return func    \n",
    "\n",
    "def sequential_transforms(*transforms):\n",
    "    def func(txt_input):\n",
    "        for transform in transforms:\n",
    "            txt_input = transform(txt_input)\n",
    "        return txt_input\n",
    "    return func\n",
    "\n",
    "transforms = sequential_transforms(lambda x: x.split(), vocab_func(vocab), totensor(torch.long))\n",
    "\n",
    "# emb_size = len(vocab)\n",
    "emb_size = 16\n",
    "batch_size = 32\n",
    "tgt_vocab_size = len(vocab)\n",
    "\n",
    "# function to collate data samples into batch tesors\n",
    "def collate_fn(batch):\n",
    "    input_batch, output_batch = [], []\n",
    "    for i, o in batch:\n",
    "#         input_batch.append(torch.nn.functional.one_hot(transforms(i), num_classes=emb_size))\n",
    "#         output_batch.append(torch.nn.functional.one_hot(transforms(o), num_classes=emb_size))\n",
    "        input_batch.append(transforms(i))\n",
    "        output_batch.append(transforms(o))\n",
    "        \n",
    "    input_batch = pad_sequence(input_batch, padding_value=pad_idx)\n",
    "    output_batch = pad_sequence(output_batch, padding_value=pad_idx)\n",
    "    return input_batch, output_batch\n",
    "\n",
    "dataset = ReverseStringsDataset(data)\n",
    "train_dataloader = DataLoader(dataset, batch_size=batch_size, collate_fn=collate_fn)\n",
    "next(iter(train_dataloader))"
   ]
  },
  {
   "cell_type": "code",
   "execution_count": 4,
   "id": "682a46bd",
   "metadata": {},
   "outputs": [
    {
     "name": "stdout",
     "output_type": "stream",
     "text": [
      "torch.Size([500, 16])\n"
     ]
    },
    {
     "data": {
      "image/png": "[encoded data removed]",
      "text/plain": [
       "<Figure size 432x288 with 2 Axes>"
      ]
     },
     "metadata": {
      "needs_background": "light"
     },
     "output_type": "display_data"
    }
   ],
   "source": [
    "# helper Module that adds positional encoding to the token embedding to introduce a notion of word order.\n",
    "class PositionalEncoding(nn.Module):\n",
    "    def __init__(self,\n",
    "                 emb_size: int,\n",
    "                 dropout: float = 0.1,\n",
    "                 maxlen: int = 500):\n",
    "        super(PositionalEncoding, self).__init__()\n",
    "        den = torch.exp(- torch.arange(0, emb_size, 2)* math.log(10000) / emb_size)\n",
    "        pos = torch.arange(0, maxlen).reshape(maxlen, 1)\n",
    "        pos_embedding = torch.zeros((maxlen, emb_size))\n",
    "        pos_embedding[:, 0::2] = torch.sin(pos * den)\n",
    "        pos_embedding[:, 1::2] = torch.cos(pos * den)\n",
    "        pos_embedding = pos_embedding.unsqueeze(-2)\n",
    "        self.dropout = nn.Dropout(dropout)\n",
    "        self.register_buffer('pos_embedding', pos_embedding)\n",
    "\n",
    "    def forward(self, token: Tensor):\n",
    "        token_embedding = torch.nn.functional.one_hot(token, num_classes=emb_size)\n",
    "        return self.dropout(token_embedding + self.pos_embedding[:token_embedding.size(0), :])\n",
    "\n",
    "pe = PositionalEncoding(emb_size, dropout=0.1)\n",
    "img = pe.pos_embedding.permute(1,0,2).squeeze()\n",
    "print(img.shape)\n",
    "\n",
    "plt.pcolormesh(img, cmap='RdBu')\n",
    "plt.ylabel('Depth')\n",
    "plt.xlabel('Position')\n",
    "plt.colorbar()\n",
    "plt.show()"
   ]
  },
  {
   "cell_type": "code",
   "execution_count": 5,
   "id": "86e070f1",
   "metadata": {},
   "outputs": [],
   "source": [
    "device = torch.device('cuda' if torch.cuda.is_available() else 'cpu')\n",
    "\n",
    "class Seq2SeqTransformer(nn.Module):\n",
    "    def __init__(self, emb_size: int, tgt_vocab_size):\n",
    "        super(Seq2SeqTransformer, self).__init__()\n",
    "        self.transformer = nn.Transformer(d_model=emb_size)\n",
    "        self.generator = nn.Linear(emb_size, tgt_vocab_size)\n",
    "        self.positional_encoding = PositionalEncoding(emb_size)\n",
    "\n",
    "    def forward(self,\n",
    "                src: Tensor,\n",
    "                tgt: Tensor,\n",
    "                src_mask: Tensor,\n",
    "                tgt_mask: Tensor,\n",
    "                src_padding_mask: Tensor,\n",
    "                tgt_padding_mask: Tensor,\n",
    "                memory_key_padding_mask: Tensor):\n",
    "        src_emb = self.positional_encoding(src)\n",
    "        tgt_emb = self.positional_encoding(tgt)\n",
    "        outs = self.transformer(src_emb, tgt_emb, src_mask, tgt_mask, None, \n",
    "                                src_padding_mask, tgt_padding_mask, memory_key_padding_mask)\n",
    "        return self.generator(outs)\n",
    "\n",
    "    def encode(self, src: Tensor, src_mask: Tensor):\n",
    "        return self.transformer.encoder(self.positional_encoding(src), src_mask)\n",
    "\n",
    "    def decode(self, tgt: Tensor, memory: Tensor, tgt_mask: Tensor):\n",
    "        return self.transformer.decoder(self.positional_encoding(tgt), memory, tgt_mask)\n",
    "\n",
    "def generate_square_subsequent_mask(sz):\n",
    "    mask = (torch.triu(torch.ones((sz, sz), device=device)) == 1).transpose(0, 1)\n",
    "    mask = mask.float().masked_fill(mask == 0, float('-inf')).masked_fill(mask == 1, float(0.0))\n",
    "    return mask\n",
    "\n",
    "def create_mask(src, tgt):\n",
    "    src_seq_len = src.shape[0]\n",
    "    tgt_seq_len = tgt.shape[0]\n",
    "\n",
    "    tgt_mask = generate_square_subsequent_mask(tgt_seq_len)\n",
    "    src_mask = torch.zeros((src_seq_len, src_seq_len), device=device).type(torch.bool)\n",
    "\n",
    "    src_padding_mask = (src == pad_idx).transpose(0, 1)\n",
    "    tgt_padding_mask = (tgt == pad_idx).transpose(0, 1)\n",
    "    return src_mask, tgt_mask, src_padding_mask, tgt_padding_mask\n",
    "\n",
    "transformer = Seq2SeqTransformer(emb_size, tgt_vocab_size)\n",
    "\n",
    "for p in transformer.parameters():\n",
    "    if p.dim() > 1:\n",
    "        nn.init.xavier_uniform_(p)\n",
    "\n",
    "transformer = transformer.to(device)\n",
    "\n",
    "loss_fn = torch.nn.CrossEntropyLoss(ignore_index=pad_idx)\n",
    "\n",
    "# optimizer = torch.optim.Adam(transformer.parameters(), lr=0.0001, betas=(0.9, 0.98), eps=1e-9)\n",
    "optimizer = torch.optim.Adam(transformer.parameters(), lr=0.0001)"
   ]
  },
  {
   "cell_type": "code",
   "execution_count": 6,
   "id": "d5620d9d",
   "metadata": {},
   "outputs": [],
   "source": [
    "def train_epoch(model, optimizer, epoch):\n",
    "    model.train()\n",
    "    losses = 0\n",
    "\n",
    "    dataset = ReverseStringsDataset(data)\n",
    "    train_dataloader = DataLoader(dataset, batch_size=batch_size, collate_fn=collate_fn)\n",
    "    \n",
    "    i = 0\n",
    "    \n",
    "    with tqdm(train_dataloader, unit=\"batch\") as tepoch:\n",
    "\n",
    "        tepoch.set_description(f\"Epoch {epoch}\")\n",
    "        \n",
    "        for src, tgt in tepoch:\n",
    "            src = src.to(device)\n",
    "            tgt = tgt.to(device)\n",
    "            \n",
    "            tgt_input = tgt[:-1, :]\n",
    "\n",
    "            src_mask, tgt_mask, src_padding_mask, tgt_padding_mask = create_mask(src, tgt_input)\n",
    "\n",
    "            logits = model(src, tgt_input, src_mask, tgt_mask,src_padding_mask, tgt_padding_mask, src_padding_mask)\n",
    "\n",
    "            optimizer.zero_grad()\n",
    "\n",
    "            tgt_out = tgt[1:, :]\n",
    "            loss = loss_fn(logits.reshape(-1, logits.shape[-1]), tgt_out.reshape(-1))\n",
    "            loss.backward()\n",
    "\n",
    "            optimizer.step()\n",
    "            losses += loss.item()\n",
    "\n",
    "            i += 1\n",
    "            tepoch.set_postfix(loss=(losses / i))\n",
    "\n",
    "    return losses / len(train_dataloader)\n",
    "\n",
    "def evaluate(model):\n",
    "    model.eval()\n",
    "    losses = 0\n",
    "\n",
    "    dataset = ReverseStringsDataset(test_data)\n",
    "    val_dataloader = DataLoader(dataset, batch_size=batch_size, collate_fn=collate_fn)\n",
    "\n",
    "    for src, tgt in val_dataloader:\n",
    "        src = src.to(device)\n",
    "        tgt = tgt.to(device)\n",
    "\n",
    "        tgt_input = tgt[:-1, :]\n",
    "\n",
    "        src_mask, tgt_mask, src_padding_mask, tgt_padding_mask = create_mask(src, tgt_input)\n",
    "\n",
    "        logits = model(src, tgt_input, src_mask, tgt_mask,src_padding_mask, tgt_padding_mask, src_padding_mask)\n",
    "        \n",
    "        tgt_out = tgt[1:, :]\n",
    "        loss = loss_fn(logits.reshape(-1, logits.shape[-1]), tgt_out.reshape(-1))\n",
    "        losses += loss.item()\n",
    "\n",
    "    return losses / len(val_dataloader)\n",
    "\n",
    "# function to generate output sequence using greedy algorithm \n",
    "def greedy_decode(model, src, src_mask, max_len, start_symbol):\n",
    "    src = src.to(device)\n",
    "    src_mask = src_mask.to(device)\n",
    "\n",
    "    memory = model.encode(src, src_mask)\n",
    "    ys = torch.ones(1, 1).fill_(start_symbol).type(torch.long).to(device)\n",
    "    for i in range(max_len-1):\n",
    "        memory = memory.to(device)\n",
    "        tgt_mask = (generate_square_subsequent_mask(ys.size(0))\n",
    "                    .type(torch.bool)).to(device)\n",
    "        out = model.decode(ys, memory, tgt_mask)\n",
    "        out = out.transpose(0, 1)\n",
    "        prob = model.generator(out[:, -1])\n",
    "        _, next_word = torch.max(prob, dim=1)\n",
    "        next_word = next_word.item()\n",
    "\n",
    "        ys = torch.cat([ys,\n",
    "                        torch.ones(1, 1).type_as(src.data).fill_(next_word)], dim=0)\n",
    "        if next_word == eos_idx:\n",
    "            break\n",
    "    return ys\n",
    "\n",
    "# actual function to translate input sentence into target language\n",
    "def translate(model: torch.nn.Module, src_sentence: str):\n",
    "    model.eval()\n",
    "    src = transforms(src_sentence).view(-1, 1)\n",
    "    num_tokens = src.shape[0]\n",
    "    src_mask = (torch.zeros(num_tokens, num_tokens)).type(torch.bool)\n",
    "    tgt_tokens = greedy_decode(\n",
    "        model,  src, src_mask, max_len=num_tokens + 5, start_symbol=start_idx).flatten()\n",
    "    return \" \".join(vocab.lookup_tokens(list(tgt_tokens.cpu().numpy()))).replace(\"<start>\", \"\").replace(\"<eos>\", \"\").strip()"
   ]
  },
  {
   "cell_type": "code",
   "execution_count": 7,
   "id": "27a66730",
   "metadata": {},
   "outputs": [
    {
     "data": {
      "application/vnd.jupyter.widget-view+json": {
       "model_id": "61a1bcefe3c24d84b27f22709c91264b",
       "version_major": 2,
       "version_minor": 0
      },
      "text/plain": [
       "  0%|          | 0/313 [00:00<?, ?batch/s]"
      ]
     },
     "metadata": {},
     "output_type": "display_data"
    },
    {
     "name": "stdout",
     "output_type": "stream",
     "text": [
      "Epoch: 1, Train loss: 2.399, Val loss: 2.276, Epoch time = 12.357s\n",
      "input\n",
      "j a b b b g f i b a d h a b d f b b g i i d e b i j g a f c b c\n",
      "output\n",
      "c b c f a g j i b e d i i g b b f d b a h d a b i f g b b b a j\n",
      "prediction\n",
      "a a a a a a a a a a a a a a c c a a a c c a a a a a a a a a a e\n",
      "False 63 63\n"
     ]
    },
    {
     "data": {
      "application/vnd.jupyter.widget-view+json": {
       "model_id": "84e95c68a4884a3282b5a75a7320e654",
       "version_major": 2,
       "version_minor": 0
      },
      "text/plain": [
       "  0%|          | 0/313 [00:00<?, ?batch/s]"
      ]
     },
     "metadata": {},
     "output_type": "display_data"
    },
    {
     "name": "stdout",
     "output_type": "stream",
     "text": [
      "Epoch: 2, Train loss: 2.279, Val loss: 2.240, Epoch time = 12.240s\n",
      "input\n",
      "j a b b b g f i b a d h a b d f b b g i i d e b i j g a f c b c\n",
      "output\n",
      "c b c f a g j i b e d i i g b b f d b a h d a b i f g b b b a j\n",
      "prediction\n",
      "b b b b b b b b b b b b b b b b b b b b b b b b b b b b b b b b\n",
      "False 63 63\n"
     ]
    },
    {
     "data": {
      "application/vnd.jupyter.widget-view+json": {
       "model_id": "f6412557d07c405abd7debd97e054a4b",
       "version_major": 2,
       "version_minor": 0
      },
      "text/plain": [
       "  0%|          | 0/313 [00:00<?, ?batch/s]"
      ]
     },
     "metadata": {},
     "output_type": "display_data"
    },
    {
     "name": "stdout",
     "output_type": "stream",
     "text": [
      "Epoch: 3, Train loss: 2.239, Val loss: 2.193, Epoch time = 11.962s\n",
      "input\n",
      "j a b b b g f i b a d h a b d f b b g i i d e b i j g a f c b c\n",
      "output\n",
      "c b c f a g j i b e d i i g b b f d b a h d a b i f g b b b a j\n",
      "prediction\n",
      "b b b b b b b b b b b b b b b b b b b b b b b b b b b b b b b b\n",
      "False 63 63\n"
     ]
    },
    {
     "data": {
      "application/vnd.jupyter.widget-view+json": {
       "model_id": "807aeb231e10410c85018828e72d56f3",
       "version_major": 2,
       "version_minor": 0
      },
      "text/plain": [
       "  0%|          | 0/313 [00:00<?, ?batch/s]"
      ]
     },
     "metadata": {},
     "output_type": "display_data"
    },
    {
     "name": "stdout",
     "output_type": "stream",
     "text": [
      "Epoch: 4, Train loss: 2.209, Val loss: 2.166, Epoch time = 12.011s\n",
      "input\n",
      "j a b b b g f i b a d h a b d f b b g i i d e b i j g a f c b c\n",
      "output\n",
      "c b c f a g j i b e d i i g b b f d b a h d a b i f g b b b a j\n",
      "prediction\n",
      "b b b b b b b b b b b b b b b b b b b b b b b b b b b b b b b b\n",
      "False 63 63\n"
     ]
    },
    {
     "data": {
      "application/vnd.jupyter.widget-view+json": {
       "model_id": "9947d961613546bfa50a0fd8248f8c41",
       "version_major": 2,
       "version_minor": 0
      },
      "text/plain": [
       "  0%|          | 0/313 [00:00<?, ?batch/s]"
      ]
     },
     "metadata": {},
     "output_type": "display_data"
    },
    {
     "name": "stdout",
     "output_type": "stream",
     "text": [
      "Epoch: 5, Train loss: 2.189, Val loss: 2.148, Epoch time = 12.040s\n",
      "input\n",
      "j a b b b g f i b a d h a b d f b b g i i d e b i j g a f c b c\n",
      "output\n",
      "c b c f a g j i b e d i i g b b f d b a h d a b i f g b b b a j\n",
      "prediction\n",
      "b b b b b b b b b b b b b b b b b b b b b b b b b b b b b b b b\n",
      "False 63 63\n"
     ]
    },
    {
     "data": {
      "application/vnd.jupyter.widget-view+json": {
       "model_id": "3d55205bed5c43879ad4efcb49fd0bb9",
       "version_major": 2,
       "version_minor": 0
      },
      "text/plain": [
       "  0%|          | 0/313 [00:00<?, ?batch/s]"
      ]
     },
     "metadata": {},
     "output_type": "display_data"
    },
    {
     "name": "stdout",
     "output_type": "stream",
     "text": [
      "Epoch: 6, Train loss: 2.172, Val loss: 2.131, Epoch time = 12.061s\n",
      "input\n",
      "j a b b b g f i b a d h a b d f b b g i i d e b i j g a f c b c\n",
      "output\n",
      "c b c f a g j i b e d i i g b b f d b a h d a b i f g b b b a j\n",
      "prediction\n",
      "b b b b b b b b b b b b b b b b b b b b b b b b b b b b b b b b\n",
      "False 63 63\n"
     ]
    },
    {
     "data": {
      "application/vnd.jupyter.widget-view+json": {
       "model_id": "bc63359f93a2435daf20353b66f0565b",
       "version_major": 2,
       "version_minor": 0
      },
      "text/plain": [
       "  0%|          | 0/313 [00:00<?, ?batch/s]"
      ]
     },
     "metadata": {},
     "output_type": "display_data"
    },
    {
     "name": "stdout",
     "output_type": "stream",
     "text": [
      "Epoch: 7, Train loss: 2.159, Val loss: 2.120, Epoch time = 12.029s\n",
      "input\n",
      "j a b b b g f i b a d h a b d f b b g i i d e b i j g a f c b c\n",
      "output\n",
      "c b c f a g j i b e d i i g b b f d b a h d a b i f g b b b a j\n",
      "prediction\n",
      "b b b b b b b b b b b b b b b b b b b b b b b b b b b b b b b b\n",
      "False 63 63\n"
     ]
    },
    {
     "data": {
      "application/vnd.jupyter.widget-view+json": {
       "model_id": "b4c8c801d19c46f0bc31c50643d6da66",
       "version_major": 2,
       "version_minor": 0
      },
      "text/plain": [
       "  0%|          | 0/313 [00:00<?, ?batch/s]"
      ]
     },
     "metadata": {},
     "output_type": "display_data"
    },
    {
     "name": "stdout",
     "output_type": "stream",
     "text": [
      "Epoch: 8, Train loss: 2.148, Val loss: 2.113, Epoch time = 12.011s\n",
      "input\n",
      "j a b b b g f i b a d h a b d f b b g i i d e b i j g a f c b c\n",
      "output\n",
      "c b c f a g j i b e d i i g b b f d b a h d a b i f g b b b a j\n",
      "prediction\n",
      "b b b b b b b b b b b b b b b b b b b b b b b b b b b b b b b b\n",
      "False 63 63\n"
     ]
    },
    {
     "data": {
      "application/vnd.jupyter.widget-view+json": {
       "model_id": "9471607bd90b47e6b874ae4846fc6b33",
       "version_major": 2,
       "version_minor": 0
      },
      "text/plain": [
       "  0%|          | 0/313 [00:00<?, ?batch/s]"
      ]
     },
     "metadata": {},
     "output_type": "display_data"
    },
    {
     "name": "stdout",
     "output_type": "stream",
     "text": [
      "Epoch: 9, Train loss: 2.142, Val loss: 2.106, Epoch time = 11.969s\n",
      "input\n",
      "j a b b b g f i b a d h a b d f b b g i i d e b i j g a f c b c\n",
      "output\n",
      "c b c f a g j i b e d i i g b b f d b a h d a b i f g b b b a j\n",
      "prediction\n",
      "b b b b b b b b b b b b b b b b b b b b b b b b b b b b b b b b\n",
      "False 63 63\n"
     ]
    },
    {
     "data": {
      "application/vnd.jupyter.widget-view+json": {
       "model_id": "f7293fd0132f4e3e965d25014c3a6fa7",
       "version_major": 2,
       "version_minor": 0
      },
      "text/plain": [
       "  0%|          | 0/313 [00:00<?, ?batch/s]"
      ]
     },
     "metadata": {},
     "output_type": "display_data"
    },
    {
     "name": "stdout",
     "output_type": "stream",
     "text": [
      "Epoch: 10, Train loss: 2.136, Val loss: 2.102, Epoch time = 11.974s\n",
      "input\n",
      "j a b b b g f i b a d h a b d f b b g i i d e b i j g a f c b c\n",
      "output\n",
      "c b c f a g j i b e d i i g b b f d b a h d a b i f g b b b a j\n",
      "prediction\n",
      "b b b b b b b b b b b b b b b b b b b b b b b b b b b b b b b b\n",
      "False 63 63\n"
     ]
    },
    {
     "data": {
      "application/vnd.jupyter.widget-view+json": {
       "model_id": "3cae0b32a56746d0a98928a2e559175a",
       "version_major": 2,
       "version_minor": 0
      },
      "text/plain": [
       "  0%|          | 0/313 [00:00<?, ?batch/s]"
      ]
     },
     "metadata": {},
     "output_type": "display_data"
    },
    {
     "name": "stdout",
     "output_type": "stream",
     "text": [
      "Epoch: 11, Train loss: 2.131, Val loss: 2.094, Epoch time = 12.067s\n",
      "input\n",
      "j a b b b g f i b a d h a b d f b b g i i d e b i j g a f c b c\n",
      "output\n",
      "c b c f a g j i b e d i i g b b f d b a h d a b i f g b b b a j\n",
      "prediction\n",
      "b b b b b b b b b b b b b b b b b b b b b b b b b b b b b b b b\n",
      "False 63 63\n"
     ]
    },
    {
     "data": {
      "application/vnd.jupyter.widget-view+json": {
       "model_id": "d2ecab4fcdae491eaef4b797772bc52c",
       "version_major": 2,
       "version_minor": 0
      },
      "text/plain": [
       "  0%|          | 0/313 [00:00<?, ?batch/s]"
      ]
     },
     "metadata": {},
     "output_type": "display_data"
    },
    {
     "name": "stdout",
     "output_type": "stream",
     "text": [
      "Epoch: 12, Train loss: 2.122, Val loss: 2.069, Epoch time = 11.974s\n",
      "input\n",
      "j a b b b g f i b a d h a b d f b b g i i d e b i j g a f c b c\n",
      "output\n",
      "c b c f a g j i b e d i i g b b f d b a h d a b i f g b b b a j\n",
      "prediction\n",
      "b b b b b b b b b b b b b i b i b b b i b b b b b b b b b b b b\n",
      "False 63 63\n"
     ]
    },
    {
     "data": {
      "application/vnd.jupyter.widget-view+json": {
       "model_id": "a4744993e66e4dea91439b9a64eaff06",
       "version_major": 2,
       "version_minor": 0
      },
      "text/plain": [
       "  0%|          | 0/313 [00:00<?, ?batch/s]"
      ]
     },
     "metadata": {},
     "output_type": "display_data"
    },
    {
     "name": "stdout",
     "output_type": "stream",
     "text": [
      "Epoch: 13, Train loss: 2.102, Val loss: 2.026, Epoch time = 11.948s\n",
      "input\n",
      "j a b b b g f i b a d h a b d f b b g i i d e b i j g a f c b c\n",
      "output\n",
      "c b c f a g j i b e d i i g b b f d b a h d a b i f g b b b a j\n",
      "prediction\n",
      "b b b b b b b b b b b b b i b i b a b a b b b b b b b b b b b b\n",
      "False 63 63\n"
     ]
    },
    {
     "data": {
      "application/vnd.jupyter.widget-view+json": {
       "model_id": "e02ba217082c4676b03575b0293046bd",
       "version_major": 2,
       "version_minor": 0
      },
      "text/plain": [
       "  0%|          | 0/313 [00:00<?, ?batch/s]"
      ]
     },
     "metadata": {},
     "output_type": "display_data"
    },
    {
     "name": "stdout",
     "output_type": "stream",
     "text": [
      "Epoch: 14, Train loss: 2.075, Val loss: 1.983, Epoch time = 12.059s\n",
      "input\n",
      "j a b b b g f i b a d h a b d f b b g i i d e b i j g a f c b c\n",
      "output\n",
      "c b c f a g j i b e d i i g b b f d b a h d a b i f g b b b a j\n",
      "prediction\n",
      "b b b b b b b b b i b i b i b i b i b i b b b b b b b b b b b b\n",
      "False 63 63\n"
     ]
    },
    {
     "data": {
      "application/vnd.jupyter.widget-view+json": {
       "model_id": "5f0cc91bffbe4bcb9bea2a403cd8cde5",
       "version_major": 2,
       "version_minor": 0
      },
      "text/plain": [
       "  0%|          | 0/313 [00:00<?, ?batch/s]"
      ]
     },
     "metadata": {},
     "output_type": "display_data"
    },
    {
     "name": "stdout",
     "output_type": "stream",
     "text": [
      "Epoch: 15, Train loss: 2.048, Val loss: 1.931, Epoch time = 12.118s\n",
      "input\n",
      "j a b b b g f i b a d h a b d f b b g i i d e b i j g a f c b c\n",
      "output\n",
      "c b c f a g j i b e d i i g b b f d b a h d a b i f g b b b a j\n",
      "prediction\n",
      "b b b b b g b g b g b b b i b i b i b i b b a b a b b b b b b b\n",
      "False 63 63\n"
     ]
    },
    {
     "data": {
      "application/vnd.jupyter.widget-view+json": {
       "model_id": "008844cee11b49108e5810976903bd64",
       "version_major": 2,
       "version_minor": 0
      },
      "text/plain": [
       "  0%|          | 0/313 [00:00<?, ?batch/s]"
      ]
     },
     "metadata": {},
     "output_type": "display_data"
    },
    {
     "name": "stdout",
     "output_type": "stream",
     "text": [
      "Epoch: 16, Train loss: 2.013, Val loss: 1.864, Epoch time = 12.085s\n",
      "input\n",
      "j a b b b g f i b a d h a b d f b b g i i d e b i j g a f c b c\n",
      "output\n",
      "c b c f a g j i b e d i i g b b f d b a h d a b i f g b b b a j\n",
      "prediction\n",
      "b b b g b g b g b g b i b i b b b b d b d b i b a b b b b b b b\n",
      "False 63 63\n"
     ]
    },
    {
     "data": {
      "application/vnd.jupyter.widget-view+json": {
       "model_id": "f2efccb5d07a425a8fe12b6fe9ac7e6e",
       "version_major": 2,
       "version_minor": 0
      },
      "text/plain": [
       "  0%|          | 0/313 [00:00<?, ?batch/s]"
      ]
     },
     "metadata": {},
     "output_type": "display_data"
    },
    {
     "name": "stdout",
     "output_type": "stream",
     "text": [
      "Epoch: 17, Train loss: 1.975, Val loss: 1.801, Epoch time = 11.998s\n",
      "input\n",
      "j a b b b g f i b a d h a b d f b b g i i d e b i j g a f c b c\n",
      "output\n",
      "c b c f a g j i b e d i i g b b f d b a h d a b i f g b b b a j\n",
      "prediction\n",
      "b b b b b g b g b g b b b b b d b d b d b a a a a b g b b b b b\n",
      "False 63 63\n"
     ]
    },
    {
     "data": {
      "application/vnd.jupyter.widget-view+json": {
       "model_id": "2804406df698436dbe14929f5fe3fdbd",
       "version_major": 2,
       "version_minor": 0
      },
      "text/plain": [
       "  0%|          | 0/313 [00:00<?, ?batch/s]"
      ]
     },
     "metadata": {},
     "output_type": "display_data"
    },
    {
     "name": "stdout",
     "output_type": "stream",
     "text": [
      "Epoch: 18, Train loss: 1.935, Val loss: 1.735, Epoch time = 11.969s\n",
      "input\n",
      "j a b b b g f i b a d h a b d f b b g i i d e b i j g a f c b c\n",
      "output\n",
      "c b c f a g j i b e d i i g b b f d b a h d a b i f g b b b a j\n",
      "prediction\n",
      "c g c g c g b g c g b d b d b d b d b d b a a a a b g b b b b b\n",
      "False 63 63\n"
     ]
    },
    {
     "data": {
      "application/vnd.jupyter.widget-view+json": {
       "model_id": "5c0730d6eb2a414facc0cde9c96c38b3",
       "version_major": 2,
       "version_minor": 0
      },
      "text/plain": [
       "  0%|          | 0/313 [00:00<?, ?batch/s]"
      ]
     },
     "metadata": {},
     "output_type": "display_data"
    },
    {
     "name": "stdout",
     "output_type": "stream",
     "text": [
      "Epoch: 19, Train loss: 1.895, Val loss: 1.655, Epoch time = 12.014s\n",
      "input\n",
      "j a b b b g f i b a d h a b d f b b g i i d e b i j g a f c b c\n",
      "output\n",
      "c b c f a g j i b e d i i g b b f d b a h d a b i f g b b b a j\n",
      "prediction\n",
      "c b b c g b g c g b i b i b b d b d b d a a a b g b g b b b b b\n",
      "False 63 63\n"
     ]
    },
    {
     "data": {
      "application/vnd.jupyter.widget-view+json": {
       "model_id": "2bf9efb6bc464adabb7e6fb720fb9de3",
       "version_major": 2,
       "version_minor": 0
      },
      "text/plain": [
       "  0%|          | 0/313 [00:00<?, ?batch/s]"
      ]
     },
     "metadata": {},
     "output_type": "display_data"
    },
    {
     "name": "stdout",
     "output_type": "stream",
     "text": [
      "Epoch: 20, Train loss: 1.846, Val loss: 1.556, Epoch time = 11.980s\n",
      "input\n",
      "j a b b b g f i b a d h a b d f b b g i i d e b i j g a f c b c\n",
      "output\n",
      "c b c f a g j i b e d i i g b b f d b a h d a b i f g b b b a j\n",
      "prediction\n",
      "c c g c g c g b i i b i b d b d b d b d a a a b i b g b b b b b\n",
      "False 63 63\n"
     ]
    },
    {
     "data": {
      "application/vnd.jupyter.widget-view+json": {
       "model_id": "c26881dbd37f4206b25534010036c709",
       "version_major": 2,
       "version_minor": 0
      },
      "text/plain": [
       "  0%|          | 0/313 [00:00<?, ?batch/s]"
      ]
     },
     "metadata": {},
     "output_type": "display_data"
    },
    {
     "name": "stdout",
     "output_type": "stream",
     "text": [
      "Epoch: 21, Train loss: 1.791, Val loss: 1.453, Epoch time = 12.002s\n",
      "input\n",
      "j a b b b g f i b a d h a b d f b b g i i d e b i j g a f c b c\n",
      "output\n",
      "c b c f a g j i b e d i i g b b f d b a h d a b i f g b b b a j\n",
      "prediction\n",
      "c c g c g c g b i i i i i b b b d b d a a a a i b i b b b b b j\n",
      "False 63 63\n"
     ]
    },
    {
     "data": {
      "application/vnd.jupyter.widget-view+json": {
       "model_id": "d4329708975345d8b5aba7710e2d0c6e",
       "version_major": 2,
       "version_minor": 0
      },
      "text/plain": [
       "  0%|          | 0/313 [00:00<?, ?batch/s]"
      ]
     },
     "metadata": {},
     "output_type": "display_data"
    },
    {
     "name": "stdout",
     "output_type": "stream",
     "text": [
      "Epoch: 22, Train loss: 1.735, Val loss: 1.359, Epoch time = 12.058s\n",
      "input\n",
      "j a b b b g f i b a d h a b d f b b g i i d e b i j g a f c b c\n",
      "output\n",
      "c b c f a g j i b e d i i g b b f d b a h d a b i f g b b b a j\n",
      "prediction\n",
      "c c f c g c b i i i i i b i b b d b d a a a a i i g b b b b j j\n",
      "False 63 63\n"
     ]
    },
    {
     "data": {
      "application/vnd.jupyter.widget-view+json": {
       "model_id": "1bda393f0aa640109bf774c05c4d93b1",
       "version_major": 2,
       "version_minor": 0
      },
      "text/plain": [
       "  0%|          | 0/313 [00:00<?, ?batch/s]"
      ]
     },
     "metadata": {},
     "output_type": "display_data"
    },
    {
     "name": "stdout",
     "output_type": "stream",
     "text": [
      "Epoch: 23, Train loss: 1.681, Val loss: 1.263, Epoch time = 12.009s\n",
      "input\n",
      "j a b b b g f i b a d h a b d f b b g i i d e b i j g a f c b c\n",
      "output\n",
      "c b c f a g j i b e d i i g b b f d b a h d a b i f g b b b a j\n",
      "prediction\n",
      "c c c b c g b i i i i i i g b b d b d a a a a i i g b b b b a j\n",
      "False 63 63\n"
     ]
    },
    {
     "data": {
      "application/vnd.jupyter.widget-view+json": {
       "model_id": "4f5bb4dcc5784882b12d7bed2e0f523d",
       "version_major": 2,
       "version_minor": 0
      },
      "text/plain": [
       "  0%|          | 0/313 [00:00<?, ?batch/s]"
      ]
     },
     "metadata": {},
     "output_type": "display_data"
    },
    {
     "name": "stdout",
     "output_type": "stream",
     "text": [
      "Epoch: 24, Train loss: 1.624, Val loss: 1.180, Epoch time = 12.070s\n",
      "input\n",
      "j a b b b g f i b a d h a b d f b b g i i d e b i j g a f c b c\n",
      "output\n",
      "c b c f a g j i b e d i i g b b f d b a h d a b i f g b b b a j\n",
      "prediction\n",
      "c c c f g g g i i i i i b g b b b d b a a a a i b f b g b b a j\n",
      "False 63 63\n"
     ]
    },
    {
     "data": {
      "application/vnd.jupyter.widget-view+json": {
       "model_id": "9b98c4ac0df34eeabcf52eeb7fc6596f",
       "version_major": 2,
       "version_minor": 0
      },
      "text/plain": [
       "  0%|          | 0/313 [00:00<?, ?batch/s]"
      ]
     },
     "metadata": {},
     "output_type": "display_data"
    },
    {
     "name": "stdout",
     "output_type": "stream",
     "text": [
      "Epoch: 25, Train loss: 1.567, Val loss: 1.095, Epoch time = 12.018s\n",
      "input\n",
      "j a b b b g f i b a d h a b d f b b g i i d e b i j g a f c b c\n",
      "output\n",
      "c b c f a g j i b e d i i g b b f d b a h d a b i f g b b b a j\n",
      "prediction\n",
      "c c c f g g i b i i i i i b g b b d b a d a a b i g b b b b a j\n",
      "False 63 63\n"
     ]
    },
    {
     "data": {
      "application/vnd.jupyter.widget-view+json": {
       "model_id": "b13cd110fdf74beea42bc82690c15b67",
       "version_major": 2,
       "version_minor": 0
      },
      "text/plain": [
       "  0%|          | 0/313 [00:00<?, ?batch/s]"
      ]
     },
     "metadata": {},
     "output_type": "display_data"
    },
    {
     "name": "stdout",
     "output_type": "stream",
     "text": [
      "Epoch: 26, Train loss: 1.517, Val loss: 1.023, Epoch time = 12.013s\n",
      "input\n",
      "j a b b b g f i b a d h a b d f b b g i i d e b i j g a f c b c\n",
      "output\n",
      "c b c f a g j i b e d i i g b b f d b a h d a b i f g b b b a j\n",
      "prediction\n",
      "c c c f g g j i b i i i i b g b d b d a a a a b i f b b b b a j\n",
      "False 63 63\n"
     ]
    },
    {
     "data": {
      "application/vnd.jupyter.widget-view+json": {
       "model_id": "28b345764cf046dc85a9c1455141cc1c",
       "version_major": 2,
       "version_minor": 0
      },
      "text/plain": [
       "  0%|          | 0/313 [00:00<?, ?batch/s]"
      ]
     },
     "metadata": {},
     "output_type": "display_data"
    },
    {
     "name": "stdout",
     "output_type": "stream",
     "text": [
      "Epoch: 27, Train loss: 1.467, Val loss: 0.947, Epoch time = 12.072s\n",
      "input\n",
      "j a b b b g f i b a d h a b d f b b g i i d e b i j g a f c b c\n",
      "output\n",
      "c b c f a g j i b e d i i g b b f d b a h d a b i f g b b b a j\n",
      "prediction\n",
      "c c c f g j g b i i i i g b b b d b d a a a a b i f g b b b a j\n",
      "False 63 63\n"
     ]
    },
    {
     "data": {
      "application/vnd.jupyter.widget-view+json": {
       "model_id": "e81b33ddf6fd4972bd54568921d37e78",
       "version_major": 2,
       "version_minor": 0
      },
      "text/plain": [
       "  0%|          | 0/313 [00:00<?, ?batch/s]"
      ]
     },
     "metadata": {},
     "output_type": "display_data"
    },
    {
     "name": "stdout",
     "output_type": "stream",
     "text": [
      "Epoch: 28, Train loss: 1.417, Val loss: 0.871, Epoch time = 11.950s\n",
      "input\n",
      "j a b b b g f i b a d h a b d f b b g i i d e b i j g a f c b c\n",
      "output\n",
      "c b c f a g j i b e d i i g b b f d b a h d a b i f g b b b a j\n",
      "prediction\n",
      "c c c f g g j i b i i i i g b b d b d a h a a b i f g b b b a j\n",
      "False 63 63\n"
     ]
    },
    {
     "data": {
      "application/vnd.jupyter.widget-view+json": {
       "model_id": "9b10bab7acc749038b427474c75fbfbf",
       "version_major": 2,
       "version_minor": 0
      },
      "text/plain": [
       "  0%|          | 0/313 [00:00<?, ?batch/s]"
      ]
     },
     "metadata": {},
     "output_type": "display_data"
    },
    {
     "name": "stdout",
     "output_type": "stream",
     "text": [
      "Epoch: 29, Train loss: 1.367, Val loss: 0.798, Epoch time = 12.113s\n",
      "input\n",
      "j a b b b g f i b a d h a b d f b b g i i d e b i j g a f c b c\n",
      "output\n",
      "c b c f a g j i b e d i i g b b f d b a h d a b i f g b b b a j\n",
      "prediction\n",
      "c c c f g g j i b i i i i g b b d b d a h a a b i f g b b b a j\n",
      "False 63 63\n"
     ]
    },
    {
     "data": {
      "application/vnd.jupyter.widget-view+json": {
       "model_id": "05baaf098beb4cff843dbc38d4294917",
       "version_major": 2,
       "version_minor": 0
      },
      "text/plain": [
       "  0%|          | 0/313 [00:00<?, ?batch/s]"
      ]
     },
     "metadata": {},
     "output_type": "display_data"
    },
    {
     "name": "stdout",
     "output_type": "stream",
     "text": [
      "Epoch: 30, Train loss: 1.321, Val loss: 0.741, Epoch time = 12.054s\n",
      "input\n",
      "j a b b b g f i b a d h a b d f b b g i i d e b i j g a f c b c\n",
      "output\n",
      "c b c f a g j i b e d i i g b b f d b a h d a b i f g b b b a j\n",
      "prediction\n",
      "c c c f g g j i b i i i g b b b f d b a h a a b i f g b b b a j\n",
      "False 63 63\n"
     ]
    },
    {
     "data": {
      "application/vnd.jupyter.widget-view+json": {
       "model_id": "1ac27544b7404239ab645725ec5485ea",
       "version_major": 2,
       "version_minor": 0
      },
      "text/plain": [
       "  0%|          | 0/313 [00:00<?, ?batch/s]"
      ]
     },
     "metadata": {},
     "output_type": "display_data"
    },
    {
     "name": "stdout",
     "output_type": "stream",
     "text": [
      "Epoch: 31, Train loss: 1.278, Val loss: 0.699, Epoch time = 12.068s\n",
      "input\n",
      "j a b b b g f i b a d h a b d f b b g i i d e b i j g a f c b c\n",
      "output\n",
      "c b c f a g j i b e d i i g b b f d b a h d a b i f g b b b a j\n",
      "prediction\n",
      "c c f a g j g i b i i i g b b b d b d a d a b a i f g b b b a j\n",
      "False 63 63\n"
     ]
    },
    {
     "data": {
      "application/vnd.jupyter.widget-view+json": {
       "model_id": "d06e227f4a094140a734a789a4a969e3",
       "version_major": 2,
       "version_minor": 0
      },
      "text/plain": [
       "  0%|          | 0/313 [00:00<?, ?batch/s]"
      ]
     },
     "metadata": {},
     "output_type": "display_data"
    },
    {
     "name": "stdout",
     "output_type": "stream",
     "text": [
      "Epoch: 32, Train loss: 1.234, Val loss: 0.636, Epoch time = 12.053s\n",
      "input\n",
      "j a b b b g f i b a d h a b d f b b g i i d e b i j g a f c b c\n",
      "output\n",
      "c b c f a g j i b e d i i g b b f d b a h d a b i f g b b b a j\n",
      "prediction\n",
      "c c c f a g j i b e i i i g b b d b d a d a a b i f g b b b a j\n",
      "False 63 63\n"
     ]
    },
    {
     "data": {
      "application/vnd.jupyter.widget-view+json": {
       "model_id": "c3c3796116ed48a1a9f4456d7d590521",
       "version_major": 2,
       "version_minor": 0
      },
      "text/plain": [
       "  0%|          | 0/313 [00:00<?, ?batch/s]"
      ]
     },
     "metadata": {},
     "output_type": "display_data"
    },
    {
     "name": "stdout",
     "output_type": "stream",
     "text": [
      "Epoch: 33, Train loss: 1.189, Val loss: 0.561, Epoch time = 12.048s\n",
      "input\n",
      "j a b b b g f i b a d h a b d f b b g i i d e b i j g a f c b c\n",
      "output\n",
      "c b c f a g j i b e d i i g b b f d b a h d a b i f g b b b a j\n",
      "prediction\n",
      "c c c f g j j i b i e i i g b b f d b a h a b a i f g b b b a j\n",
      "False 63 63\n"
     ]
    },
    {
     "data": {
      "application/vnd.jupyter.widget-view+json": {
       "model_id": "e8826396acf24ecd8d0c6bd0887faefa",
       "version_major": 2,
       "version_minor": 0
      },
      "text/plain": [
       "  0%|          | 0/313 [00:00<?, ?batch/s]"
      ]
     },
     "metadata": {},
     "output_type": "display_data"
    },
    {
     "name": "stdout",
     "output_type": "stream",
     "text": [
      "Epoch: 34, Train loss: 1.147, Val loss: 0.518, Epoch time = 12.067s\n",
      "input\n",
      "j a b b b g f i b a d h a b d f b b g i i d e b i j g a f c b c\n",
      "output\n",
      "c b c f a g j i b e d i i g b b f d b a h d a b i f g b b b a j\n",
      "prediction\n",
      "c c c f a g j i b e i i i b b b f d b a h d a b i f g b b b a j\n",
      "False 63 63\n"
     ]
    },
    {
     "data": {
      "application/vnd.jupyter.widget-view+json": {
       "model_id": "37b6e5811dc24df8bc8073821392e88e",
       "version_major": 2,
       "version_minor": 0
      },
      "text/plain": [
       "  0%|          | 0/313 [00:00<?, ?batch/s]"
      ]
     },
     "metadata": {},
     "output_type": "display_data"
    },
    {
     "name": "stdout",
     "output_type": "stream",
     "text": [
      "Epoch: 35, Train loss: 1.110, Val loss: 0.452, Epoch time = 12.070s\n",
      "input\n",
      "j a b b b g f i b a d h a b d f b b g i i d e b i j g a f c b c\n",
      "output\n",
      "c b c f a g j i b e d i i g b b f d b a h d a b i f g b b b a j\n",
      "prediction\n",
      "c b c f a g j i b e i i i g b b f d b a h d a b i f g b b b a j\n",
      "False 63 63\n"
     ]
    },
    {
     "data": {
      "application/vnd.jupyter.widget-view+json": {
       "model_id": "53f6bb4852584e2b950a6e9d06875f94",
       "version_major": 2,
       "version_minor": 0
      },
      "text/plain": [
       "  0%|          | 0/313 [00:00<?, ?batch/s]"
      ]
     },
     "metadata": {},
     "output_type": "display_data"
    },
    {
     "name": "stdout",
     "output_type": "stream",
     "text": [
      "Epoch: 36, Train loss: 1.071, Val loss: 0.445, Epoch time = 12.018s\n",
      "input\n",
      "j a b b b g f i b a d h a b d f b b g i i d e b i j g a f c b c\n",
      "output\n",
      "c b c f a g j i b e d i i g b b f d b a h d a b i f g b b b a j\n",
      "prediction\n",
      "c c c f a g j i b e i i i g b b f d b a h d a b i f g b b b a j\n",
      "False 63 63\n"
     ]
    },
    {
     "data": {
      "application/vnd.jupyter.widget-view+json": {
       "model_id": "e97172cf45d740c3913d075fb543809a",
       "version_major": 2,
       "version_minor": 0
      },
      "text/plain": [
       "  0%|          | 0/313 [00:00<?, ?batch/s]"
      ]
     },
     "metadata": {},
     "output_type": "display_data"
    },
    {
     "name": "stdout",
     "output_type": "stream",
     "text": [
      "Epoch: 37, Train loss: 1.037, Val loss: 0.379, Epoch time = 11.984s\n",
      "input\n",
      "j a b b b g f i b a d h a b d f b b g i i d e b i j g a f c b c\n",
      "output\n",
      "c b c f a g j i b e d i i g b b f d b a h d a b i f g b b b a j\n",
      "prediction\n",
      "c b c f a g j i b e i i i g b b f d b a h d a b i f g b b b a j\n",
      "False 63 63\n"
     ]
    },
    {
     "data": {
      "application/vnd.jupyter.widget-view+json": {
       "model_id": "07704708c9d34b58a1959f7bb6692e36",
       "version_major": 2,
       "version_minor": 0
      },
      "text/plain": [
       "  0%|          | 0/313 [00:00<?, ?batch/s]"
      ]
     },
     "metadata": {},
     "output_type": "display_data"
    },
    {
     "name": "stdout",
     "output_type": "stream",
     "text": [
      "Epoch: 38, Train loss: 1.005, Val loss: 0.345, Epoch time = 12.147s\n",
      "input\n",
      "j a b b b g f i b a d h a b d f b b g i i d e b i j g a f c b c\n",
      "output\n",
      "c b c f a g j i b e d i i g b b f d b a h d a b i f g b b b a j\n",
      "prediction\n",
      "c b c f a g j i b e i i i g b b f d b a h d a b i f g b b b a j\n",
      "False 63 63\n"
     ]
    },
    {
     "data": {
      "application/vnd.jupyter.widget-view+json": {
       "model_id": "a38a5d608d5244b39dfe68616986dcbd",
       "version_major": 2,
       "version_minor": 0
      },
      "text/plain": [
       "  0%|          | 0/313 [00:00<?, ?batch/s]"
      ]
     },
     "metadata": {},
     "output_type": "display_data"
    },
    {
     "name": "stdout",
     "output_type": "stream",
     "text": [
      "Epoch: 39, Train loss: 0.970, Val loss: 0.309, Epoch time = 12.175s\n",
      "input\n",
      "j a b b b g f i b a d h a b d f b b g i i d e b i j g a f c b c\n",
      "output\n",
      "c b c f a g j i b e d i i g b b f d b a h d a b i f g b b b a j\n",
      "prediction\n",
      "c b c f a g j i b e i i i g b b f d b a h d a b i f g b b b a j\n",
      "False 63 63\n"
     ]
    },
    {
     "data": {
      "application/vnd.jupyter.widget-view+json": {
       "model_id": "d7115b43670c4e538229d245c9e4be13",
       "version_major": 2,
       "version_minor": 0
      },
      "text/plain": [
       "  0%|          | 0/313 [00:00<?, ?batch/s]"
      ]
     },
     "metadata": {},
     "output_type": "display_data"
    },
    {
     "name": "stdout",
     "output_type": "stream",
     "text": [
      "Epoch: 40, Train loss: 0.945, Val loss: 0.279, Epoch time = 12.109s\n",
      "input\n",
      "j a b b b g f i b a d h a b d f b b g i i d e b i j g a f c b c\n",
      "output\n",
      "c b c f a g j i b e d i i g b b f d b a h d a b i f g b b b a j\n",
      "prediction\n",
      "c b c f a g j i b e d i i g b b f d b a h d a b i f g b b b a j\n",
      "True 63 63\n"
     ]
    },
    {
     "data": {
      "application/vnd.jupyter.widget-view+json": {
       "model_id": "d5718a51c77144b6a5abac0af8c13f40",
       "version_major": 2,
       "version_minor": 0
      },
      "text/plain": [
       "  0%|          | 0/313 [00:00<?, ?batch/s]"
      ]
     },
     "metadata": {},
     "output_type": "display_data"
    },
    {
     "name": "stdout",
     "output_type": "stream",
     "text": [
      "Epoch: 41, Train loss: 0.913, Val loss: 0.250, Epoch time = 12.082s\n",
      "input\n",
      "j a b b b g f i b a d h a b d f b b g i i d e b i j g a f c b c\n",
      "output\n",
      "c b c f a g j i b e d i i g b b f d b a h d a b i f g b b b a j\n",
      "prediction\n",
      "c b c f a g j i b e i i i g b b f d b a h d a b i f g b b b a j\n",
      "False 63 63\n"
     ]
    },
    {
     "data": {
      "application/vnd.jupyter.widget-view+json": {
       "model_id": "d96db6bd42d140e987bc2fb9c3d4e4ed",
       "version_major": 2,
       "version_minor": 0
      },
      "text/plain": [
       "  0%|          | 0/313 [00:00<?, ?batch/s]"
      ]
     },
     "metadata": {},
     "output_type": "display_data"
    },
    {
     "name": "stdout",
     "output_type": "stream",
     "text": [
      "Epoch: 42, Train loss: 0.888, Val loss: 0.225, Epoch time = 12.050s\n",
      "input\n",
      "j a b b b g f i b a d h a b d f b b g i i d e b i j g a f c b c\n",
      "output\n",
      "c b c f a g j i b e d i i g b b f d b a h d a b i f g b b b a j\n",
      "prediction\n",
      "c b c f a g j i b e d i i g b b f d b a h d a b i f g b b b a j\n",
      "True 63 63\n"
     ]
    },
    {
     "data": {
      "application/vnd.jupyter.widget-view+json": {
       "model_id": "3e9581e748124327a88b7f002e337e45",
       "version_major": 2,
       "version_minor": 0
      },
      "text/plain": [
       "  0%|          | 0/313 [00:00<?, ?batch/s]"
      ]
     },
     "metadata": {},
     "output_type": "display_data"
    },
    {
     "name": "stdout",
     "output_type": "stream",
     "text": [
      "Epoch: 43, Train loss: 0.860, Val loss: 0.227, Epoch time = 12.082s\n",
      "input\n",
      "j a b b b g f i b a d h a b d f b b g i i d e b i j g a f c b c\n",
      "output\n",
      "c b c f a g j i b e d i i g b b f d b a h d a b i f g b b b a j\n",
      "prediction\n",
      "c b c f a g j i b e d i i g b b f d b a h d a b i f g b b b a j\n",
      "True 63 63\n"
     ]
    },
    {
     "data": {
      "application/vnd.jupyter.widget-view+json": {
       "model_id": "ab6a0589a8f54b58bd31a26dca7a5b04",
       "version_major": 2,
       "version_minor": 0
      },
      "text/plain": [
       "  0%|          | 0/313 [00:00<?, ?batch/s]"
      ]
     },
     "metadata": {},
     "output_type": "display_data"
    },
    {
     "name": "stdout",
     "output_type": "stream",
     "text": [
      "Epoch: 44, Train loss: 0.832, Val loss: 0.167, Epoch time = 12.021s\n",
      "input\n",
      "j a b b b g f i b a d h a b d f b b g i i d e b i j g a f c b c\n",
      "output\n",
      "c b c f a g j i b e d i i g b b f d b a h d a b i f g b b b a j\n",
      "prediction\n",
      "c b c f a g j i b e d i i g b b f d b a h d a b i f g b b b a j\n",
      "True 63 63\n"
     ]
    },
    {
     "data": {
      "application/vnd.jupyter.widget-view+json": {
       "model_id": "6bd245941e1e42939a7fcc3c6df05990",
       "version_major": 2,
       "version_minor": 0
      },
      "text/plain": [
       "  0%|          | 0/313 [00:00<?, ?batch/s]"
      ]
     },
     "metadata": {},
     "output_type": "display_data"
    },
    {
     "name": "stdout",
     "output_type": "stream",
     "text": [
      "Epoch: 45, Train loss: 0.810, Val loss: 0.152, Epoch time = 12.163s\n",
      "input\n",
      "j a b b b g f i b a d h a b d f b b g i i d e b i j g a f c b c\n",
      "output\n",
      "c b c f a g j i b e d i i g b b f d b a h d a b i f g b b b a j\n",
      "prediction\n",
      "c b c f a g j i b e d i i g b b f d b a h d a b i f g b b b a j\n",
      "True 63 63\n"
     ]
    },
    {
     "data": {
      "application/vnd.jupyter.widget-view+json": {
       "model_id": "3c4032da499f4008a646880187ab3b27",
       "version_major": 2,
       "version_minor": 0
      },
      "text/plain": [
       "  0%|          | 0/313 [00:00<?, ?batch/s]"
      ]
     },
     "metadata": {},
     "output_type": "display_data"
    },
    {
     "name": "stdout",
     "output_type": "stream",
     "text": [
      "Epoch: 46, Train loss: 0.789, Val loss: 0.149, Epoch time = 12.098s\n",
      "input\n",
      "j a b b b g f i b a d h a b d f b b g i i d e b i j g a f c b c\n",
      "output\n",
      "c b c f a g j i b e d i i g b b f d b a h d a b i f g b b b a j\n",
      "prediction\n",
      "c b c f a g j i b e d i i g b b f d b a h d a b i f g b b b a j\n",
      "True 63 63\n"
     ]
    },
    {
     "data": {
      "application/vnd.jupyter.widget-view+json": {
       "model_id": "8aa8344c6bcd4e9e9b824cd6bef18e6b",
       "version_major": 2,
       "version_minor": 0
      },
      "text/plain": [
       "  0%|          | 0/313 [00:00<?, ?batch/s]"
      ]
     },
     "metadata": {},
     "output_type": "display_data"
    },
    {
     "name": "stdout",
     "output_type": "stream",
     "text": [
      "Epoch: 47, Train loss: 0.767, Val loss: 0.128, Epoch time = 12.147s\n",
      "input\n",
      "j a b b b g f i b a d h a b d f b b g i i d e b i j g a f c b c\n",
      "output\n",
      "c b c f a g j i b e d i i g b b f d b a h d a b i f g b b b a j\n",
      "prediction\n",
      "c b c f a g j i b e d i i g b b f d b a h d a b i f g b b b a j\n",
      "True 63 63\n"
     ]
    },
    {
     "data": {
      "application/vnd.jupyter.widget-view+json": {
       "model_id": "50f8d6c7bd03476fac54698060dc0434",
       "version_major": 2,
       "version_minor": 0
      },
      "text/plain": [
       "  0%|          | 0/313 [00:00<?, ?batch/s]"
      ]
     },
     "metadata": {},
     "output_type": "display_data"
    },
    {
     "name": "stdout",
     "output_type": "stream",
     "text": [
      "Epoch: 48, Train loss: 0.745, Val loss: 0.104, Epoch time = 12.165s\n",
      "input\n",
      "j a b b b g f i b a d h a b d f b b g i i d e b i j g a f c b c\n",
      "output\n",
      "c b c f a g j i b e d i i g b b f d b a h d a b i f g b b b a j\n",
      "prediction\n",
      "c b c f a g j i b e d i i g b b f d b a h d a b i f g b b b a j\n",
      "True 63 63\n"
     ]
    },
    {
     "data": {
      "application/vnd.jupyter.widget-view+json": {
       "model_id": "0fc1e2c6a4bf4975bd4546e5999c91ab",
       "version_major": 2,
       "version_minor": 0
      },
      "text/plain": [
       "  0%|          | 0/313 [00:00<?, ?batch/s]"
      ]
     },
     "metadata": {},
     "output_type": "display_data"
    },
    {
     "name": "stdout",
     "output_type": "stream",
     "text": [
      "Epoch: 49, Train loss: 0.723, Val loss: 0.098, Epoch time = 12.114s\n",
      "input\n",
      "j a b b b g f i b a d h a b d f b b g i i d e b i j g a f c b c\n",
      "output\n",
      "c b c f a g j i b e d i i g b b f d b a h d a b i f g b b b a j\n",
      "prediction\n",
      "c b c f a g j i b e d i i g b b f d b a h d a b i f g b b b a j\n",
      "True 63 63\n"
     ]
    },
    {
     "data": {
      "application/vnd.jupyter.widget-view+json": {
       "model_id": "241a472342b941ddbcfe557087275c5a",
       "version_major": 2,
       "version_minor": 0
      },
      "text/plain": [
       "  0%|          | 0/313 [00:00<?, ?batch/s]"
      ]
     },
     "metadata": {},
     "output_type": "display_data"
    },
    {
     "name": "stdout",
     "output_type": "stream",
     "text": [
      "Epoch: 50, Train loss: 0.704, Val loss: 0.091, Epoch time = 12.085s\n",
      "input\n",
      "j a b b b g f i b a d h a b d f b b g i i d e b i j g a f c b c\n",
      "output\n",
      "c b c f a g j i b e d i i g b b f d b a h d a b i f g b b b a j\n",
      "prediction\n",
      "c b c f a g j i b e d i i g b b f d b a h d a b i f g b b b a j\n",
      "True 63 63\n"
     ]
    },
    {
     "data": {
      "application/vnd.jupyter.widget-view+json": {
       "model_id": "f1265ad9828841e0acb8a8a7de60f62f",
       "version_major": 2,
       "version_minor": 0
      },
      "text/plain": [
       "  0%|          | 0/313 [00:00<?, ?batch/s]"
      ]
     },
     "metadata": {},
     "output_type": "display_data"
    },
    {
     "name": "stdout",
     "output_type": "stream",
     "text": [
      "Epoch: 51, Train loss: 0.686, Val loss: 0.082, Epoch time = 12.130s\n",
      "input\n",
      "j a b b b g f i b a d h a b d f b b g i i d e b i j g a f c b c\n",
      "output\n",
      "c b c f a g j i b e d i i g b b f d b a h d a b i f g b b b a j\n",
      "prediction\n",
      "c b c f a g j i b e d i i g b b f d b a h d a b i f g b b b a j\n",
      "True 63 63\n"
     ]
    },
    {
     "data": {
      "application/vnd.jupyter.widget-view+json": {
       "model_id": "ae3dc5357bcd48b8a2986e35b496834b",
       "version_major": 2,
       "version_minor": 0
      },
      "text/plain": [
       "  0%|          | 0/313 [00:00<?, ?batch/s]"
      ]
     },
     "metadata": {},
     "output_type": "display_data"
    },
    {
     "name": "stdout",
     "output_type": "stream",
     "text": [
      "Epoch: 52, Train loss: 0.670, Val loss: 0.070, Epoch time = 12.585s\n",
      "input\n",
      "j a b b b g f i b a d h a b d f b b g i i d e b i j g a f c b c\n",
      "output\n",
      "c b c f a g j i b e d i i g b b f d b a h d a b i f g b b b a j\n",
      "prediction\n",
      "c b c f a g j i b e d i i g b b f d b a h d a b i f g b b b a j\n",
      "True 63 63\n"
     ]
    },
    {
     "data": {
      "application/vnd.jupyter.widget-view+json": {
       "model_id": "b055434097a247aa9423b868f284ddf6",
       "version_major": 2,
       "version_minor": 0
      },
      "text/plain": [
       "  0%|          | 0/313 [00:00<?, ?batch/s]"
      ]
     },
     "metadata": {},
     "output_type": "display_data"
    },
    {
     "name": "stdout",
     "output_type": "stream",
     "text": [
      "Epoch: 53, Train loss: 0.656, Val loss: 0.068, Epoch time = 12.618s\n",
      "input\n",
      "j a b b b g f i b a d h a b d f b b g i i d e b i j g a f c b c\n",
      "output\n",
      "c b c f a g j i b e d i i g b b f d b a h d a b i f g b b b a j\n",
      "prediction\n",
      "c b c f a g j i b e d i i g b b f d b a h d a b i f g b b b a j\n",
      "True 63 63\n"
     ]
    },
    {
     "data": {
      "application/vnd.jupyter.widget-view+json": {
       "model_id": "805c2168fe6c438e94d2de05b09d7cb6",
       "version_major": 2,
       "version_minor": 0
      },
      "text/plain": [
       "  0%|          | 0/313 [00:00<?, ?batch/s]"
      ]
     },
     "metadata": {},
     "output_type": "display_data"
    },
    {
     "name": "stdout",
     "output_type": "stream",
     "text": [
      "Epoch: 54, Train loss: 0.640, Val loss: 0.059, Epoch time = 12.584s\n",
      "input\n",
      "j a b b b g f i b a d h a b d f b b g i i d e b i j g a f c b c\n",
      "output\n",
      "c b c f a g j i b e d i i g b b f d b a h d a b i f g b b b a j\n",
      "prediction\n",
      "c b c f a g j i b e d i i g b b f d b a h d a b i f g b b b a j\n",
      "True 63 63\n"
     ]
    },
    {
     "data": {
      "application/vnd.jupyter.widget-view+json": {
       "model_id": "b80d90ddde964d168850f9c3bf458bf9",
       "version_major": 2,
       "version_minor": 0
      },
      "text/plain": [
       "  0%|          | 0/313 [00:00<?, ?batch/s]"
      ]
     },
     "metadata": {},
     "output_type": "display_data"
    },
    {
     "name": "stdout",
     "output_type": "stream",
     "text": [
      "Epoch: 55, Train loss: 0.627, Val loss: 0.060, Epoch time = 12.349s\n",
      "input\n",
      "j a b b b g f i b a d h a b d f b b g i i d e b i j g a f c b c\n",
      "output\n",
      "c b c f a g j i b e d i i g b b f d b a h d a b i f g b b b a j\n",
      "prediction\n",
      "c b c f a g j i b e d i i g b b f d b a h d a b i f g b b b a j\n",
      "True 63 63\n"
     ]
    },
    {
     "data": {
      "application/vnd.jupyter.widget-view+json": {
       "model_id": "7bd3856408c24b819fbf23383750da46",
       "version_major": 2,
       "version_minor": 0
      },
      "text/plain": [
       "  0%|          | 0/313 [00:00<?, ?batch/s]"
      ]
     },
     "metadata": {},
     "output_type": "display_data"
    },
    {
     "name": "stdout",
     "output_type": "stream",
     "text": [
      "Epoch: 56, Train loss: 0.617, Val loss: 0.048, Epoch time = 15.672s\n",
      "input\n",
      "j a b b b g f i b a d h a b d f b b g i i d e b i j g a f c b c\n",
      "output\n",
      "c b c f a g j i b e d i i g b b f d b a h d a b i f g b b b a j\n",
      "prediction\n",
      "c b c f a g j i b e d i i g b b f d b a h d a b i f g b b b a j\n",
      "True 63 63\n"
     ]
    },
    {
     "data": {
      "application/vnd.jupyter.widget-view+json": {
       "model_id": "ac748ceda3c64084b104a96420009f7f",
       "version_major": 2,
       "version_minor": 0
      },
      "text/plain": [
       "  0%|          | 0/313 [00:00<?, ?batch/s]"
      ]
     },
     "metadata": {},
     "output_type": "display_data"
    },
    {
     "name": "stdout",
     "output_type": "stream",
     "text": [
      "Epoch: 57, Train loss: 0.599, Val loss: 0.050, Epoch time = 22.083s\n",
      "input\n",
      "j a b b b g f i b a d h a b d f b b g i i d e b i j g a f c b c\n",
      "output\n",
      "c b c f a g j i b e d i i g b b f d b a h d a b i f g b b b a j\n",
      "prediction\n",
      "c b c f a g j i b e d i i g b b f d b a h d a b i f g b b b a j\n",
      "True 63 63\n"
     ]
    },
    {
     "data": {
      "application/vnd.jupyter.widget-view+json": {
       "model_id": "87cfe454ce1147b69f0909c4fa17a52f",
       "version_major": 2,
       "version_minor": 0
      },
      "text/plain": [
       "  0%|          | 0/313 [00:00<?, ?batch/s]"
      ]
     },
     "metadata": {},
     "output_type": "display_data"
    },
    {
     "name": "stdout",
     "output_type": "stream",
     "text": [
      "Epoch: 58, Train loss: 0.585, Val loss: 0.043, Epoch time = 22.089s\n",
      "input\n",
      "j a b b b g f i b a d h a b d f b b g i i d e b i j g a f c b c\n",
      "output\n",
      "c b c f a g j i b e d i i g b b f d b a h d a b i f g b b b a j\n",
      "prediction\n",
      "c b c f a g j i b e d i i g b b f d b a h d a b i f g b b b a j\n",
      "True 63 63\n"
     ]
    },
    {
     "data": {
      "application/vnd.jupyter.widget-view+json": {
       "model_id": "a1c2d7511a324fd085351c2df4da04aa",
       "version_major": 2,
       "version_minor": 0
      },
      "text/plain": [
       "  0%|          | 0/313 [00:00<?, ?batch/s]"
      ]
     },
     "metadata": {},
     "output_type": "display_data"
    },
    {
     "name": "stdout",
     "output_type": "stream",
     "text": [
      "Epoch: 59, Train loss: 0.575, Val loss: 0.041, Epoch time = 21.714s\n",
      "input\n",
      "j a b b b g f i b a d h a b d f b b g i i d e b i j g a f c b c\n",
      "output\n",
      "c b c f a g j i b e d i i g b b f d b a h d a b i f g b b b a j\n",
      "prediction\n",
      "c b c f a g j i b e d i i g b b f d b a h d a b i f g b b b a j\n",
      "True 63 63\n"
     ]
    },
    {
     "data": {
      "application/vnd.jupyter.widget-view+json": {
       "model_id": "dc7a28e0077140b69542adffd7d5532a",
       "version_major": 2,
       "version_minor": 0
      },
      "text/plain": [
       "  0%|          | 0/313 [00:00<?, ?batch/s]"
      ]
     },
     "metadata": {},
     "output_type": "display_data"
    },
    {
     "name": "stdout",
     "output_type": "stream",
     "text": [
      "Epoch: 60, Train loss: 0.562, Val loss: 0.041, Epoch time = 31.701s\n",
      "input\n",
      "j a b b b g f i b a d h a b d f b b g i i d e b i j g a f c b c\n",
      "output\n",
      "c b c f a g j i b e d i i g b b f d b a h d a b i f g b b b a j\n",
      "prediction\n",
      "c b c f a g j i b e d i i g b b f d b a h d a b i f g b b b a j\n",
      "True 63 63\n"
     ]
    },
    {
     "data": {
      "application/vnd.jupyter.widget-view+json": {
       "model_id": "ff428364b2a84b789bb8997cfb60e184",
       "version_major": 2,
       "version_minor": 0
      },
      "text/plain": [
       "  0%|          | 0/313 [00:00<?, ?batch/s]"
      ]
     },
     "metadata": {},
     "output_type": "display_data"
    },
    {
     "name": "stdout",
     "output_type": "stream",
     "text": [
      "Epoch: 61, Train loss: 0.552, Val loss: 0.033, Epoch time = 33.945s\n",
      "input\n",
      "j a b b b g f i b a d h a b d f b b g i i d e b i j g a f c b c\n",
      "output\n",
      "c b c f a g j i b e d i i g b b f d b a h d a b i f g b b b a j\n",
      "prediction\n",
      "c b c f a g j i b e d i i g b b f d b a h d a b i f g b b b a j\n",
      "True 63 63\n"
     ]
    },
    {
     "data": {
      "application/vnd.jupyter.widget-view+json": {
       "model_id": "b7b4894f8be64afda4ec01fdbf29eda0",
       "version_major": 2,
       "version_minor": 0
      },
      "text/plain": [
       "  0%|          | 0/313 [00:00<?, ?batch/s]"
      ]
     },
     "metadata": {},
     "output_type": "display_data"
    },
    {
     "name": "stdout",
     "output_type": "stream",
     "text": [
      "Epoch: 62, Train loss: 0.540, Val loss: 0.034, Epoch time = 34.204s\n",
      "input\n",
      "j a b b b g f i b a d h a b d f b b g i i d e b i j g a f c b c\n",
      "output\n",
      "c b c f a g j i b e d i i g b b f d b a h d a b i f g b b b a j\n",
      "prediction\n",
      "c b c f a g j i b e d i i g b b f d b a h d a b i f g b b b a j\n",
      "True 63 63\n"
     ]
    },
    {
     "data": {
      "application/vnd.jupyter.widget-view+json": {
       "model_id": "c729033620fd49f6b7a2414815afe818",
       "version_major": 2,
       "version_minor": 0
      },
      "text/plain": [
       "  0%|          | 0/313 [00:00<?, ?batch/s]"
      ]
     },
     "metadata": {},
     "output_type": "display_data"
    },
    {
     "name": "stdout",
     "output_type": "stream",
     "text": [
      "Epoch: 63, Train loss: 0.527, Val loss: 0.029, Epoch time = 33.082s\n",
      "input\n",
      "j a b b b g f i b a d h a b d f b b g i i d e b i j g a f c b c\n",
      "output\n",
      "c b c f a g j i b e d i i g b b f d b a h d a b i f g b b b a j\n",
      "prediction\n",
      "c b c f a g j i b e d i i g b b f d b a h d a b i f g b b b a j\n",
      "True 63 63\n"
     ]
    },
    {
     "data": {
      "application/vnd.jupyter.widget-view+json": {
       "model_id": "c8366d6cbc3746df911935b8d019b216",
       "version_major": 2,
       "version_minor": 0
      },
      "text/plain": [
       "  0%|          | 0/313 [00:00<?, ?batch/s]"
      ]
     },
     "metadata": {},
     "output_type": "display_data"
    },
    {
     "name": "stdout",
     "output_type": "stream",
     "text": [
      "Epoch: 64, Train loss: 0.521, Val loss: 0.027, Epoch time = 33.440s\n",
      "input\n",
      "j a b b b g f i b a d h a b d f b b g i i d e b i j g a f c b c\n",
      "output\n",
      "c b c f a g j i b e d i i g b b f d b a h d a b i f g b b b a j\n",
      "prediction\n",
      "c b c f a g j i b e d i i g b b f d b a h d a b i f g b b b a j\n",
      "True 63 63\n"
     ]
    },
    {
     "data": {
      "application/vnd.jupyter.widget-view+json": {
       "model_id": "d8c020b2160f43c28d31bada9d63c25b",
       "version_major": 2,
       "version_minor": 0
      },
      "text/plain": [
       "  0%|          | 0/313 [00:00<?, ?batch/s]"
      ]
     },
     "metadata": {},
     "output_type": "display_data"
    },
    {
     "name": "stdout",
     "output_type": "stream",
     "text": [
      "Epoch: 65, Train loss: 0.510, Val loss: 0.025, Epoch time = 33.364s\n",
      "input\n",
      "j a b b b g f i b a d h a b d f b b g i i d e b i j g a f c b c\n",
      "output\n",
      "c b c f a g j i b e d i i g b b f d b a h d a b i f g b b b a j\n",
      "prediction\n",
      "c b c f a g j i b e d i i g b b f d b a h d a b i f g b b b a j\n",
      "True 63 63\n"
     ]
    },
    {
     "data": {
      "application/vnd.jupyter.widget-view+json": {
       "model_id": "a7b7b95490fb4644978be3f6c836aa6f",
       "version_major": 2,
       "version_minor": 0
      },
      "text/plain": [
       "  0%|          | 0/313 [00:00<?, ?batch/s]"
      ]
     },
     "metadata": {},
     "output_type": "display_data"
    },
    {
     "name": "stdout",
     "output_type": "stream",
     "text": [
      "Epoch: 66, Train loss: 0.502, Val loss: 0.024, Epoch time = 32.591s\n",
      "input\n",
      "j a b b b g f i b a d h a b d f b b g i i d e b i j g a f c b c\n",
      "output\n",
      "c b c f a g j i b e d i i g b b f d b a h d a b i f g b b b a j\n",
      "prediction\n",
      "c b c f a g j i b e d i i g b b f d b a h d a b i f g b b b a j\n",
      "True 63 63\n"
     ]
    },
    {
     "data": {
      "application/vnd.jupyter.widget-view+json": {
       "model_id": "4f5324a6d7f54d0fae07cde15a711322",
       "version_major": 2,
       "version_minor": 0
      },
      "text/plain": [
       "  0%|          | 0/313 [00:00<?, ?batch/s]"
      ]
     },
     "metadata": {},
     "output_type": "display_data"
    },
    {
     "name": "stdout",
     "output_type": "stream",
     "text": [
      "Epoch: 67, Train loss: 0.493, Val loss: 0.023, Epoch time = 32.434s\n",
      "input\n",
      "j a b b b g f i b a d h a b d f b b g i i d e b i j g a f c b c\n",
      "output\n",
      "c b c f a g j i b e d i i g b b f d b a h d a b i f g b b b a j\n",
      "prediction\n",
      "c b c f a g j i b e d i i g b b f d b a h d a b i f g b b b a j\n",
      "True 63 63\n"
     ]
    },
    {
     "data": {
      "application/vnd.jupyter.widget-view+json": {
       "model_id": "63b4bbeb307a4eaf92fa5e1878239586",
       "version_major": 2,
       "version_minor": 0
      },
      "text/plain": [
       "  0%|          | 0/313 [00:00<?, ?batch/s]"
      ]
     },
     "metadata": {},
     "output_type": "display_data"
    },
    {
     "name": "stdout",
     "output_type": "stream",
     "text": [
      "Epoch: 68, Train loss: 0.487, Val loss: 0.022, Epoch time = 33.457s\n",
      "input\n",
      "j a b b b g f i b a d h a b d f b b g i i d e b i j g a f c b c\n",
      "output\n",
      "c b c f a g j i b e d i i g b b f d b a h d a b i f g b b b a j\n",
      "prediction\n",
      "c b c f a g j i b e d i i g b b f d b a h d a b i f g b b b a j\n",
      "True 63 63\n"
     ]
    },
    {
     "data": {
      "application/vnd.jupyter.widget-view+json": {
       "model_id": "87f99e9a44a4497b98499f4edc423734",
       "version_major": 2,
       "version_minor": 0
      },
      "text/plain": [
       "  0%|          | 0/313 [00:00<?, ?batch/s]"
      ]
     },
     "metadata": {},
     "output_type": "display_data"
    },
    {
     "name": "stdout",
     "output_type": "stream",
     "text": [
      "Epoch: 69, Train loss: 0.477, Val loss: 0.022, Epoch time = 32.425s\n",
      "input\n",
      "j a b b b g f i b a d h a b d f b b g i i d e b i j g a f c b c\n",
      "output\n",
      "c b c f a g j i b e d i i g b b f d b a h d a b i f g b b b a j\n",
      "prediction\n",
      "c b c f a g j i b e d i i g b b f d b a h d a b i f g b b b a j\n",
      "True 63 63\n"
     ]
    },
    {
     "data": {
      "application/vnd.jupyter.widget-view+json": {
       "model_id": "9f5c71448c0b4d0c9cc18ddcf500e84a",
       "version_major": 2,
       "version_minor": 0
      },
      "text/plain": [
       "  0%|          | 0/313 [00:00<?, ?batch/s]"
      ]
     },
     "metadata": {},
     "output_type": "display_data"
    },
    {
     "name": "stdout",
     "output_type": "stream",
     "text": [
      "Epoch: 70, Train loss: 0.470, Val loss: 0.020, Epoch time = 32.377s\n",
      "input\n",
      "j a b b b g f i b a d h a b d f b b g i i d e b i j g a f c b c\n",
      "output\n",
      "c b c f a g j i b e d i i g b b f d b a h d a b i f g b b b a j\n",
      "prediction\n",
      "c b c f a g j i b e d i i g b b f d b a h d a b i f g b b b a j\n",
      "True 63 63\n"
     ]
    },
    {
     "data": {
      "application/vnd.jupyter.widget-view+json": {
       "model_id": "5701d728c23b4b40a34e751a2cc8dcf7",
       "version_major": 2,
       "version_minor": 0
      },
      "text/plain": [
       "  0%|          | 0/313 [00:00<?, ?batch/s]"
      ]
     },
     "metadata": {},
     "output_type": "display_data"
    },
    {
     "name": "stdout",
     "output_type": "stream",
     "text": [
      "Epoch: 71, Train loss: 0.459, Val loss: 0.018, Epoch time = 32.597s\n",
      "input\n",
      "j a b b b g f i b a d h a b d f b b g i i d e b i j g a f c b c\n",
      "output\n",
      "c b c f a g j i b e d i i g b b f d b a h d a b i f g b b b a j\n",
      "prediction\n",
      "c b c f a g j i b e d i i g b b f d b a h d a b i f g b b b a j\n",
      "True 63 63\n"
     ]
    },
    {
     "data": {
      "application/vnd.jupyter.widget-view+json": {
       "model_id": "56de408fbac1458fa5171335e2d92278",
       "version_major": 2,
       "version_minor": 0
      },
      "text/plain": [
       "  0%|          | 0/313 [00:00<?, ?batch/s]"
      ]
     },
     "metadata": {},
     "output_type": "display_data"
    },
    {
     "name": "stdout",
     "output_type": "stream",
     "text": [
      "Epoch: 72, Train loss: 0.455, Val loss: 0.021, Epoch time = 32.487s\n",
      "input\n",
      "j a b b b g f i b a d h a b d f b b g i i d e b i j g a f c b c\n",
      "output\n",
      "c b c f a g j i b e d i i g b b f d b a h d a b i f g b b b a j\n",
      "prediction\n",
      "c b c f a g j i b e d i i g b b f d b a h d a b i f g b b b a j\n",
      "True 63 63\n"
     ]
    },
    {
     "data": {
      "application/vnd.jupyter.widget-view+json": {
       "model_id": "5f12d3257d0748ebbc151778292719ff",
       "version_major": 2,
       "version_minor": 0
      },
      "text/plain": [
       "  0%|          | 0/313 [00:00<?, ?batch/s]"
      ]
     },
     "metadata": {},
     "output_type": "display_data"
    },
    {
     "name": "stdout",
     "output_type": "stream",
     "text": [
      "Epoch: 73, Train loss: 0.452, Val loss: 0.018, Epoch time = 32.230s\n",
      "input\n",
      "j a b b b g f i b a d h a b d f b b g i i d e b i j g a f c b c\n",
      "output\n",
      "c b c f a g j i b e d i i g b b f d b a h d a b i f g b b b a j\n",
      "prediction\n",
      "c b c f a g j i b e d i i g b b f d b a h d a b i f g b b b a j\n",
      "True 63 63\n"
     ]
    },
    {
     "data": {
      "application/vnd.jupyter.widget-view+json": {
       "model_id": "f17ca5a1a9454f3193eb181357bfc4a1",
       "version_major": 2,
       "version_minor": 0
      },
      "text/plain": [
       "  0%|          | 0/313 [00:00<?, ?batch/s]"
      ]
     },
     "metadata": {},
     "output_type": "display_data"
    },
    {
     "name": "stdout",
     "output_type": "stream",
     "text": [
      "Epoch: 74, Train loss: 0.439, Val loss: 0.016, Epoch time = 32.624s\n",
      "input\n",
      "j a b b b g f i b a d h a b d f b b g i i d e b i j g a f c b c\n",
      "output\n",
      "c b c f a g j i b e d i i g b b f d b a h d a b i f g b b b a j\n",
      "prediction\n",
      "c b c f a g j i b e d i i g b b f d b a h d a b i f g b b b a j\n",
      "True 63 63\n"
     ]
    },
    {
     "data": {
      "application/vnd.jupyter.widget-view+json": {
       "model_id": "ac5568e8cd5d493fa2c6451c58abeb60",
       "version_major": 2,
       "version_minor": 0
      },
      "text/plain": [
       "  0%|          | 0/313 [00:00<?, ?batch/s]"
      ]
     },
     "metadata": {},
     "output_type": "display_data"
    },
    {
     "name": "stdout",
     "output_type": "stream",
     "text": [
      "Epoch: 75, Train loss: 0.429, Val loss: 0.015, Epoch time = 32.540s\n",
      "input\n",
      "j a b b b g f i b a d h a b d f b b g i i d e b i j g a f c b c\n",
      "output\n",
      "c b c f a g j i b e d i i g b b f d b a h d a b i f g b b b a j\n",
      "prediction\n",
      "c b c f a g j i b e d i i g b b f d b a h d a b i f g b b b a j\n",
      "True 63 63\n"
     ]
    },
    {
     "data": {
      "application/vnd.jupyter.widget-view+json": {
       "model_id": "15affba8deb348ebb16afbc63d23c863",
       "version_major": 2,
       "version_minor": 0
      },
      "text/plain": [
       "  0%|          | 0/313 [00:00<?, ?batch/s]"
      ]
     },
     "metadata": {},
     "output_type": "display_data"
    },
    {
     "name": "stdout",
     "output_type": "stream",
     "text": [
      "Epoch: 76, Train loss: 0.426, Val loss: 0.014, Epoch time = 32.323s\n",
      "input\n",
      "j a b b b g f i b a d h a b d f b b g i i d e b i j g a f c b c\n",
      "output\n",
      "c b c f a g j i b e d i i g b b f d b a h d a b i f g b b b a j\n",
      "prediction\n",
      "c b c f a g j i b e d i i g b b f d b a h d a b i f g b b b a j\n",
      "True 63 63\n"
     ]
    },
    {
     "data": {
      "application/vnd.jupyter.widget-view+json": {
       "model_id": "5ed55ed32d3c426fb832f8d9016500c2",
       "version_major": 2,
       "version_minor": 0
      },
      "text/plain": [
       "  0%|          | 0/313 [00:00<?, ?batch/s]"
      ]
     },
     "metadata": {},
     "output_type": "display_data"
    },
    {
     "name": "stdout",
     "output_type": "stream",
     "text": [
      "Epoch: 77, Train loss: 0.422, Val loss: 0.014, Epoch time = 33.148s\n",
      "input\n",
      "j a b b b g f i b a d h a b d f b b g i i d e b i j g a f c b c\n",
      "output\n",
      "c b c f a g j i b e d i i g b b f d b a h d a b i f g b b b a j\n",
      "prediction\n",
      "c b c f a g j i b e d i i g b b f d b a h d a b i f g b b b a j\n",
      "True 63 63\n"
     ]
    },
    {
     "data": {
      "application/vnd.jupyter.widget-view+json": {
       "model_id": "8c3a5c7948194446bb8561e45785bac0",
       "version_major": 2,
       "version_minor": 0
      },
      "text/plain": [
       "  0%|          | 0/313 [00:00<?, ?batch/s]"
      ]
     },
     "metadata": {},
     "output_type": "display_data"
    },
    {
     "name": "stdout",
     "output_type": "stream",
     "text": [
      "Epoch: 78, Train loss: 0.415, Val loss: 0.014, Epoch time = 32.323s\n",
      "input\n",
      "j a b b b g f i b a d h a b d f b b g i i d e b i j g a f c b c\n",
      "output\n",
      "c b c f a g j i b e d i i g b b f d b a h d a b i f g b b b a j\n",
      "prediction\n",
      "c b c f a g j i b e d i i g b b f d b a h d a b i f g b b b a j\n",
      "True 63 63\n"
     ]
    },
    {
     "data": {
      "application/vnd.jupyter.widget-view+json": {
       "model_id": "d02d380425da4d9186a8457f407f8ed0",
       "version_major": 2,
       "version_minor": 0
      },
      "text/plain": [
       "  0%|          | 0/313 [00:00<?, ?batch/s]"
      ]
     },
     "metadata": {},
     "output_type": "display_data"
    },
    {
     "name": "stdout",
     "output_type": "stream",
     "text": [
      "Epoch: 79, Train loss: 0.409, Val loss: 0.015, Epoch time = 32.965s\n",
      "input\n",
      "j a b b b g f i b a d h a b d f b b g i i d e b i j g a f c b c\n",
      "output\n",
      "c b c f a g j i b e d i i g b b f d b a h d a b i f g b b b a j\n",
      "prediction\n",
      "c b c f a g j i b e d i i g b b f d b a h d a b i f g b b b a j\n",
      "True 63 63\n"
     ]
    },
    {
     "data": {
      "application/vnd.jupyter.widget-view+json": {
       "model_id": "ce735be8999b4ff8b5674fffb2840ff8",
       "version_major": 2,
       "version_minor": 0
      },
      "text/plain": [
       "  0%|          | 0/313 [00:00<?, ?batch/s]"
      ]
     },
     "metadata": {},
     "output_type": "display_data"
    },
    {
     "name": "stdout",
     "output_type": "stream",
     "text": [
      "Epoch: 80, Train loss: 0.405, Val loss: 0.012, Epoch time = 32.591s\n",
      "input\n",
      "j a b b b g f i b a d h a b d f b b g i i d e b i j g a f c b c\n",
      "output\n",
      "c b c f a g j i b e d i i g b b f d b a h d a b i f g b b b a j\n",
      "prediction\n",
      "c b c f a g j i b e d i i g b b f d b a h d a b i f g b b b a j\n",
      "True 63 63\n"
     ]
    },
    {
     "data": {
      "application/vnd.jupyter.widget-view+json": {
       "model_id": "a701ab848d2640aea504339c147df84e",
       "version_major": 2,
       "version_minor": 0
      },
      "text/plain": [
       "  0%|          | 0/313 [00:00<?, ?batch/s]"
      ]
     },
     "metadata": {},
     "output_type": "display_data"
    },
    {
     "name": "stdout",
     "output_type": "stream",
     "text": [
      "Epoch: 81, Train loss: 0.399, Val loss: 0.013, Epoch time = 32.415s\n",
      "input\n",
      "j a b b b g f i b a d h a b d f b b g i i d e b i j g a f c b c\n",
      "output\n",
      "c b c f a g j i b e d i i g b b f d b a h d a b i f g b b b a j\n",
      "prediction\n",
      "c b c f a g j i b e d i i g b b f d b a h d a b i f g b b b a j\n",
      "True 63 63\n"
     ]
    },
    {
     "data": {
      "application/vnd.jupyter.widget-view+json": {
       "model_id": "63224d8e3b824630bc26faeb716d33da",
       "version_major": 2,
       "version_minor": 0
      },
      "text/plain": [
       "  0%|          | 0/313 [00:00<?, ?batch/s]"
      ]
     },
     "metadata": {},
     "output_type": "display_data"
    },
    {
     "name": "stdout",
     "output_type": "stream",
     "text": [
      "Epoch: 82, Train loss: 0.390, Val loss: 0.011, Epoch time = 32.524s\n",
      "input\n",
      "j a b b b g f i b a d h a b d f b b g i i d e b i j g a f c b c\n",
      "output\n",
      "c b c f a g j i b e d i i g b b f d b a h d a b i f g b b b a j\n",
      "prediction\n",
      "c b c f a g j i b e d i i g b b f d b a h d a b i f g b b b a j\n",
      "True 63 63\n"
     ]
    },
    {
     "data": {
      "application/vnd.jupyter.widget-view+json": {
       "model_id": "627225bb9a79436d93d5b52d8dd0a2fa",
       "version_major": 2,
       "version_minor": 0
      },
      "text/plain": [
       "  0%|          | 0/313 [00:00<?, ?batch/s]"
      ]
     },
     "metadata": {},
     "output_type": "display_data"
    },
    {
     "name": "stdout",
     "output_type": "stream",
     "text": [
      "Epoch: 83, Train loss: 0.388, Val loss: 0.011, Epoch time = 32.226s\n",
      "input\n",
      "j a b b b g f i b a d h a b d f b b g i i d e b i j g a f c b c\n",
      "output\n",
      "c b c f a g j i b e d i i g b b f d b a h d a b i f g b b b a j\n",
      "prediction\n",
      "c b c f a g j i b e d i i g b b f d b a h d a b i f g b b b a j\n",
      "True 63 63\n"
     ]
    },
    {
     "data": {
      "application/vnd.jupyter.widget-view+json": {
       "model_id": "4cfc419c859a49898789e4169cebe948",
       "version_major": 2,
       "version_minor": 0
      },
      "text/plain": [
       "  0%|          | 0/313 [00:00<?, ?batch/s]"
      ]
     },
     "metadata": {},
     "output_type": "display_data"
    },
    {
     "name": "stdout",
     "output_type": "stream",
     "text": [
      "Epoch: 84, Train loss: 0.383, Val loss: 0.011, Epoch time = 32.391s\n",
      "input\n",
      "j a b b b g f i b a d h a b d f b b g i i d e b i j g a f c b c\n",
      "output\n",
      "c b c f a g j i b e d i i g b b f d b a h d a b i f g b b b a j\n",
      "prediction\n",
      "c b c f a g j i b e d i i g b b f d b a h d a b i f g b b b a j\n",
      "True 63 63\n"
     ]
    },
    {
     "data": {
      "application/vnd.jupyter.widget-view+json": {
       "model_id": "4c6d97fbeb5044d8baa79c3872d161c4",
       "version_major": 2,
       "version_minor": 0
      },
      "text/plain": [
       "  0%|          | 0/313 [00:00<?, ?batch/s]"
      ]
     },
     "metadata": {},
     "output_type": "display_data"
    },
    {
     "name": "stdout",
     "output_type": "stream",
     "text": [
      "Epoch: 85, Train loss: 0.379, Val loss: 0.011, Epoch time = 32.645s\n",
      "input\n",
      "j a b b b g f i b a d h a b d f b b g i i d e b i j g a f c b c\n",
      "output\n",
      "c b c f a g j i b e d i i g b b f d b a h d a b i f g b b b a j\n",
      "prediction\n",
      "c b c f a g j i b e d i i g b b f d b a h d a b i f g b b b a j\n",
      "True 63 63\n"
     ]
    },
    {
     "data": {
      "application/vnd.jupyter.widget-view+json": {
       "model_id": "e90d3007f3374f4685f3049f440ce392",
       "version_major": 2,
       "version_minor": 0
      },
      "text/plain": [
       "  0%|          | 0/313 [00:00<?, ?batch/s]"
      ]
     },
     "metadata": {},
     "output_type": "display_data"
    },
    {
     "name": "stdout",
     "output_type": "stream",
     "text": [
      "Epoch: 86, Train loss: 0.377, Val loss: 0.010, Epoch time = 32.532s\n",
      "input\n",
      "j a b b b g f i b a d h a b d f b b g i i d e b i j g a f c b c\n",
      "output\n",
      "c b c f a g j i b e d i i g b b f d b a h d a b i f g b b b a j\n",
      "prediction\n",
      "c b c f a g j i b e d i i g b b f d b a h d a b i f g b b b a j\n",
      "True 63 63\n"
     ]
    },
    {
     "data": {
      "application/vnd.jupyter.widget-view+json": {
       "model_id": "4abc6f1d15a449d1855f1fc520b03c28",
       "version_major": 2,
       "version_minor": 0
      },
      "text/plain": [
       "  0%|          | 0/313 [00:00<?, ?batch/s]"
      ]
     },
     "metadata": {},
     "output_type": "display_data"
    },
    {
     "name": "stdout",
     "output_type": "stream",
     "text": [
      "Epoch: 87, Train loss: 0.372, Val loss: 0.010, Epoch time = 32.246s\n",
      "input\n",
      "j a b b b g f i b a d h a b d f b b g i i d e b i j g a f c b c\n",
      "output\n",
      "c b c f a g j i b e d i i g b b f d b a h d a b i f g b b b a j\n",
      "prediction\n",
      "c b c f a g j i b e d i i g b b f d b a h d a b i f g b b b a j\n",
      "True 63 63\n"
     ]
    },
    {
     "data": {
      "application/vnd.jupyter.widget-view+json": {
       "model_id": "5908b6a903584f7785062694a829abcc",
       "version_major": 2,
       "version_minor": 0
      },
      "text/plain": [
       "  0%|          | 0/313 [00:00<?, ?batch/s]"
      ]
     },
     "metadata": {},
     "output_type": "display_data"
    },
    {
     "name": "stdout",
     "output_type": "stream",
     "text": [
      "Epoch: 88, Train loss: 0.367, Val loss: 0.009, Epoch time = 32.602s\n",
      "input\n",
      "j a b b b g f i b a d h a b d f b b g i i d e b i j g a f c b c\n",
      "output\n",
      "c b c f a g j i b e d i i g b b f d b a h d a b i f g b b b a j\n",
      "prediction\n",
      "c b c f a g j i b e d i i g b b f d b a h d a b i f g b b b a j\n",
      "True 63 63\n"
     ]
    },
    {
     "data": {
      "application/vnd.jupyter.widget-view+json": {
       "model_id": "414df3af335f4346aa5f66cfd126cef0",
       "version_major": 2,
       "version_minor": 0
      },
      "text/plain": [
       "  0%|          | 0/313 [00:00<?, ?batch/s]"
      ]
     },
     "metadata": {},
     "output_type": "display_data"
    },
    {
     "name": "stdout",
     "output_type": "stream",
     "text": [
      "Epoch: 89, Train loss: 0.360, Val loss: 0.009, Epoch time = 32.484s\n",
      "input\n",
      "j a b b b g f i b a d h a b d f b b g i i d e b i j g a f c b c\n",
      "output\n",
      "c b c f a g j i b e d i i g b b f d b a h d a b i f g b b b a j\n",
      "prediction\n",
      "c b c f a g j i b e d i i g b b f d b a h d a b i f g b b b a j\n",
      "True 63 63\n"
     ]
    },
    {
     "data": {
      "application/vnd.jupyter.widget-view+json": {
       "model_id": "4d16e8e16f5849b7834aebec7692304f",
       "version_major": 2,
       "version_minor": 0
      },
      "text/plain": [
       "  0%|          | 0/313 [00:00<?, ?batch/s]"
      ]
     },
     "metadata": {},
     "output_type": "display_data"
    },
    {
     "name": "stdout",
     "output_type": "stream",
     "text": [
      "Epoch: 90, Train loss: 0.356, Val loss: 0.010, Epoch time = 32.242s\n",
      "input\n",
      "j a b b b g f i b a d h a b d f b b g i i d e b i j g a f c b c\n",
      "output\n",
      "c b c f a g j i b e d i i g b b f d b a h d a b i f g b b b a j\n",
      "prediction\n",
      "c b c f a g j i b e d i i g b b f d b a h d a b i f g b b b a j\n",
      "True 63 63\n"
     ]
    },
    {
     "data": {
      "application/vnd.jupyter.widget-view+json": {
       "model_id": "bdf485d5190544f2b7e88b0bc17a6832",
       "version_major": 2,
       "version_minor": 0
      },
      "text/plain": [
       "  0%|          | 0/313 [00:00<?, ?batch/s]"
      ]
     },
     "metadata": {},
     "output_type": "display_data"
    },
    {
     "name": "stdout",
     "output_type": "stream",
     "text": [
      "Epoch: 91, Train loss: 0.356, Val loss: 0.008, Epoch time = 32.592s\n",
      "input\n",
      "j a b b b g f i b a d h a b d f b b g i i d e b i j g a f c b c\n",
      "output\n",
      "c b c f a g j i b e d i i g b b f d b a h d a b i f g b b b a j\n",
      "prediction\n",
      "c b c f a g j i b e d i i g b b f d b a h d a b i f g b b b a j\n",
      "True 63 63\n"
     ]
    },
    {
     "data": {
      "application/vnd.jupyter.widget-view+json": {
       "model_id": "78ac431e13794f03a3135886b1fd1428",
       "version_major": 2,
       "version_minor": 0
      },
      "text/plain": [
       "  0%|          | 0/313 [00:00<?, ?batch/s]"
      ]
     },
     "metadata": {},
     "output_type": "display_data"
    },
    {
     "name": "stdout",
     "output_type": "stream",
     "text": [
      "Epoch: 92, Train loss: 0.346, Val loss: 0.008, Epoch time = 32.378s\n",
      "input\n",
      "j a b b b g f i b a d h a b d f b b g i i d e b i j g a f c b c\n",
      "output\n",
      "c b c f a g j i b e d i i g b b f d b a h d a b i f g b b b a j\n",
      "prediction\n",
      "c b c f a g j i b e d i i g b b f d b a h d a b i f g b b b a j\n",
      "True 63 63\n"
     ]
    },
    {
     "data": {
      "application/vnd.jupyter.widget-view+json": {
       "model_id": "c76ae75a9ca246858c9fa77512a8c901",
       "version_major": 2,
       "version_minor": 0
      },
      "text/plain": [
       "  0%|          | 0/313 [00:00<?, ?batch/s]"
      ]
     },
     "metadata": {},
     "output_type": "display_data"
    },
    {
     "name": "stdout",
     "output_type": "stream",
     "text": [
      "Epoch: 93, Train loss: 0.347, Val loss: 0.009, Epoch time = 32.567s\n",
      "input\n",
      "j a b b b g f i b a d h a b d f b b g i i d e b i j g a f c b c\n",
      "output\n",
      "c b c f a g j i b e d i i g b b f d b a h d a b i f g b b b a j\n",
      "prediction\n",
      "c b c f a g j i b e d i i g b b f d b a h d a b i f g b b b a j\n",
      "True 63 63\n"
     ]
    },
    {
     "data": {
      "application/vnd.jupyter.widget-view+json": {
       "model_id": "42479682b1d64c9489417f2787888f62",
       "version_major": 2,
       "version_minor": 0
      },
      "text/plain": [
       "  0%|          | 0/313 [00:00<?, ?batch/s]"
      ]
     },
     "metadata": {},
     "output_type": "display_data"
    },
    {
     "name": "stdout",
     "output_type": "stream",
     "text": [
      "Epoch: 94, Train loss: 0.342, Val loss: 0.008, Epoch time = 32.474s\n",
      "input\n",
      "j a b b b g f i b a d h a b d f b b g i i d e b i j g a f c b c\n",
      "output\n",
      "c b c f a g j i b e d i i g b b f d b a h d a b i f g b b b a j\n",
      "prediction\n",
      "c b c f a g j i b e d i i g b b f d b a h d a b i f g b b b a j\n",
      "True 63 63\n"
     ]
    },
    {
     "data": {
      "application/vnd.jupyter.widget-view+json": {
       "model_id": "3eb47ccfa0c14af48fc1d5b742d3e8e9",
       "version_major": 2,
       "version_minor": 0
      },
      "text/plain": [
       "  0%|          | 0/313 [00:00<?, ?batch/s]"
      ]
     },
     "metadata": {},
     "output_type": "display_data"
    },
    {
     "name": "stdout",
     "output_type": "stream",
     "text": [
      "Epoch: 95, Train loss: 0.338, Val loss: 0.008, Epoch time = 32.452s\n",
      "input\n",
      "j a b b b g f i b a d h a b d f b b g i i d e b i j g a f c b c\n",
      "output\n",
      "c b c f a g j i b e d i i g b b f d b a h d a b i f g b b b a j\n",
      "prediction\n",
      "c b c f a g j i b e d i i g b b f d b a h d a b i f g b b b a j\n",
      "True 63 63\n"
     ]
    },
    {
     "data": {
      "application/vnd.jupyter.widget-view+json": {
       "model_id": "83caa9df86414cd89adc1399dfe1889f",
       "version_major": 2,
       "version_minor": 0
      },
      "text/plain": [
       "  0%|          | 0/313 [00:00<?, ?batch/s]"
      ]
     },
     "metadata": {},
     "output_type": "display_data"
    },
    {
     "name": "stdout",
     "output_type": "stream",
     "text": [
      "Epoch: 96, Train loss: 0.336, Val loss: 0.009, Epoch time = 32.593s\n",
      "input\n",
      "j a b b b g f i b a d h a b d f b b g i i d e b i j g a f c b c\n",
      "output\n",
      "c b c f a g j i b e d i i g b b f d b a h d a b i f g b b b a j\n",
      "prediction\n",
      "c b c f a g j i b e d i i g b b f d b a h d a b i f g b b b a j\n",
      "True 63 63\n"
     ]
    },
    {
     "data": {
      "application/vnd.jupyter.widget-view+json": {
       "model_id": "07c8634136774f6ca75dbe132695ad17",
       "version_major": 2,
       "version_minor": 0
      },
      "text/plain": [
       "  0%|          | 0/313 [00:00<?, ?batch/s]"
      ]
     },
     "metadata": {},
     "output_type": "display_data"
    },
    {
     "name": "stdout",
     "output_type": "stream",
     "text": [
      "Epoch: 97, Train loss: 0.330, Val loss: 0.008, Epoch time = 32.517s\n",
      "input\n",
      "j a b b b g f i b a d h a b d f b b g i i d e b i j g a f c b c\n",
      "output\n",
      "c b c f a g j i b e d i i g b b f d b a h d a b i f g b b b a j\n",
      "prediction\n",
      "c b c f a g j i b e d i i g b b f d b a h d a b i f g b b b a j\n",
      "True 63 63\n"
     ]
    },
    {
     "data": {
      "application/vnd.jupyter.widget-view+json": {
       "model_id": "5618dd8752d44fdb8ea857f044d5bd14",
       "version_major": 2,
       "version_minor": 0
      },
      "text/plain": [
       "  0%|          | 0/313 [00:00<?, ?batch/s]"
      ]
     },
     "metadata": {},
     "output_type": "display_data"
    },
    {
     "name": "stdout",
     "output_type": "stream",
     "text": [
      "Epoch: 98, Train loss: 0.328, Val loss: 0.008, Epoch time = 33.171s\n",
      "input\n",
      "j a b b b g f i b a d h a b d f b b g i i d e b i j g a f c b c\n",
      "output\n",
      "c b c f a g j i b e d i i g b b f d b a h d a b i f g b b b a j\n",
      "prediction\n",
      "c b c f a g j i b e d i i g b b f d b a h d a b i f g b b b a j\n",
      "True 63 63\n"
     ]
    },
    {
     "data": {
      "application/vnd.jupyter.widget-view+json": {
       "model_id": "f3bb7df0cbb542208e15aee8fcec7ecb",
       "version_major": 2,
       "version_minor": 0
      },
      "text/plain": [
       "  0%|          | 0/313 [00:00<?, ?batch/s]"
      ]
     },
     "metadata": {},
     "output_type": "display_data"
    },
    {
     "name": "stdout",
     "output_type": "stream",
     "text": [
      "Epoch: 99, Train loss: 0.327, Val loss: 0.007, Epoch time = 32.747s\n",
      "input\n",
      "j a b b b g f i b a d h a b d f b b g i i d e b i j g a f c b c\n",
      "output\n",
      "c b c f a g j i b e d i i g b b f d b a h d a b i f g b b b a j\n",
      "prediction\n",
      "c b c f a g j i b e d i i g b b f d b a h d a b i f g b b b a j\n",
      "True 63 63\n"
     ]
    }
   ],
   "source": [
    "test_dataset = ReverseStringsDataset(test_data)\n",
    "\n",
    "for epoch in range(1, 100):\n",
    "    start_time = timer()\n",
    "    train_loss = train_epoch(transformer, optimizer, epoch)\n",
    "    end_time = timer()\n",
    "    val_loss = evaluate(transformer)\n",
    "    print((f\"Epoch: {epoch}, Train loss: {train_loss:.3f}, Val loss: {val_loss:.3f}, \"f\"Epoch time = {(end_time - start_time):.3f}s\"))\n",
    "    \n",
    "    input = test_dataset[0][0]\n",
    "    output = test_dataset[0][1]\n",
    "    prediction = translate(transformer, input)\n",
    "    print(\"input\")\n",
    "    print(input)\n",
    "    print(\"output\")\n",
    "    print(output)\n",
    "    print(\"prediction\")\n",
    "    print(prediction)\n",
    "    print(output == prediction, len(output), len(prediction))\n",
    "    \n",
    "    from timeit import default_timer as timer\n",
    "\n",
    "# for epoch in range(1, 50):\n",
    "#     start_time = timer()\n",
    "#     train_loss = train_epoch(transformer, optimizer, epoch)\n",
    "#     end_time = timer()\n",
    "#     val_loss = evaluate(transformer)\n",
    "#     print((f\"Epoch: {epoch}, Train loss: {train_loss:.3f}, Val loss: {val_loss:.3f}, \"f\"Epoch time = {(end_time - start_time):.3f}s\"))"
   ]
  },
  {
   "cell_type": "code",
   "execution_count": 8,
   "id": "49f367b1",
   "metadata": {},
   "outputs": [
    {
     "name": "stdout",
     "output_type": "stream",
     "text": [
      "j a b b b g f i b a d h a b d f b b g i i d e b i j g a f c b c\n",
      "output\n",
      "c b c f a g j i b e d i i g b b f d b a h d a b i f g b b b a j\n",
      "c b c f a g j i b e d i i g b b f d b a h d a b i f g b b b a j\n",
      "True 63 63\n"
     ]
    }
   ],
   "source": [
    "dataset = ReverseStringsDataset(test_data)\n",
    "print(dataset[0][0])\n",
    "output = dataset[0][1]\n",
    "prediction = translate(transformer, dataset[0][0])\n",
    "print(\"output\")\n",
    "print(output)\n",
    "print(prediction)\n",
    "print(output == prediction, len(output), len(prediction))"
   ]
  }
 ],
 "metadata": {
  "kernelspec": {
   "display_name": "Python 3 (ipykernel)",
   "language": "python",
   "name": "python3"
  },
  "language_info": {
   "codemirror_mode": {
    "name": "ipython",
    "version": 3
   },
   "file_extension": ".py",
   "mimetype": "text/x-python",
   "name": "python",
   "nbconvert_exporter": "python",
   "pygments_lexer": "ipython3",
   "version": "3.8.11"
  }
 },
 "nbformat": 4,
 "nbformat_minor": 5
}
