{
 "cells": [
  {
   "cell_type": "code",
   "execution_count": 9,
   "id": "6e812f2f",
   "metadata": {},
   "outputs": [],
   "source": [
    "import sys\n",
    "import argparse\n",
    "import random\n",
    "import torch\n",
    "import pandas as pd\n",
    "import numpy as np\n",
    "\n",
    "import pytorch_lightning as pl\n",
    "from lit_transformer_model import Seq2SeqTransformer\n",
    "from lit_transformer_model import ReverseStringsDataset\n",
    "\n",
    "import matplotlib.pyplot as plt\n",
    "\n",
    "torch.backends.cudnn.deterministic = True\n",
    "torch.set_printoptions(profile=\"full\")"
   ]
  },
  {
   "cell_type": "code",
   "execution_count": 3,
   "id": "74a58c11",
   "metadata": {},
   "outputs": [
    {
     "name": "stdout",
     "output_type": "stream",
     "text": [
      "vocabulary 14 {'i': 12, 'j': 11, 'e': 4, 'b': 6, '<unk>': 0, '<start>': 2, '<pad>': 1, 'a': 13, 'g': 7, 'f': 10, 'h': 5, 'd': 8, '<eos>': 3, 'c': 9}\n",
      "TransformerEncoderLayer dropout 0.1 16 1e-05 {'device': None, 'dtype': None}\n",
      "Seq2SeqTransformer\n",
      "learning_rate 0.0001\n",
      "batch_size 32\n",
      "dim_feedforward 2048\n",
      "nhead 1\n",
      "num_decoder_layers 1\n",
      "num_encoder_layers 1\n"
     ]
    },
    {
     "data": {
      "text/plain": [
       "<All keys matched successfully>"
      ]
     },
     "execution_count": 3,
     "metadata": {},
     "output_type": "execute_result"
    }
   ],
   "source": [
    "model = Seq2SeqTransformer(nhead = 1,\n",
    "                           num_decoder_layers = 1,\n",
    "                           num_encoder_layers = 1)\n",
    "ckpt = torch.load(\"/home/sk/pytorch_logs/Seq2SeqTransformer/version_97/checkpoints/epoch=27-step=8763.ckpt\")\n",
    "model.load_state_dict(ckpt[\"state_dict\"])"
   ]
  },
  {
   "cell_type": "code",
   "execution_count": 16,
   "id": "3606c23b",
   "metadata": {},
   "outputs": [
    {
     "name": "stdout",
     "output_type": "stream",
     "text": [
      "input c h f d b h h e h i h g i c j g g f b e b h b c a b h a i b c f j h d i e f h f f g e c d e a d f h a i e g g d d a h f b b h g b h j h a a e i c j e c j e g h c g j g i g a e a j i c h f d d e d j e e c e c h b e c b j h c a h d j h e a g a e c c g i i h f d j d j i i g f f h h h e i f b i a a d b i b f i d i c c f c j g e e d c c e f b g f i a d c b h c d c c i f i a h g j g a c h j d j d e g b h j c j i b e f j d a f c h f i j b d b f i c e f h i f d b e g d e c b c c j h h d g j c d c b h f b i h g i i\n",
      "output i i g h i b f h b c d c j g d h h j c c b c e d g e b d f i h f e c i f b d b j i f h c f a d j f e b i j c j h b g e d j d j h c a g j g h a i f i c c d c h b c d a i f g b f e c c d e e g j c f c c i d i f b i b d a a i b f i e h h h f f g i i j d j d f h i i g c c e a g a e h j d h a c h j b c e b h c e c e e j d e d d f h c i j a e a g i g j g c h g e j c e j c i e a a h j h b g h b b f h a d d g g e i a h f d a e d c e g f f h f e i d h j f c b i a h b a c b h b e b f g g j c i g h i h e h h b d f h c\n",
      "prediction i i g h i b f h b c d c j g d h h j c c b c e d g e b d f i h f e c i f b d b j i f h c f a d j f e b i j c j h b g e d j d j h c a g j g h a i f i c c d c h b c d a i f g b f e c c d e e g j c f c c i d i f b i b d a a i b f i e h h h f f g i i j d j d f h i i g c c e a g a e h j d h a c h j b c e b h c e c e e j d e d d f h c i j a e a g i g j g c h g e j c e j c i e a a h j h b g h b b f h a d d g g e i a h f d a e d c e g f f h f e i d h j f c b i a h b a c b h b e b f g g j c i g h i h e h h b d f h c\n",
      "True 511 511\n"
     ]
    }
   ],
   "source": [
    "test_data = pd.read_csv('./data/rev_val_256.csv', header=None, sep=';')\n",
    "dataset = ReverseStringsDataset(test_data)\n",
    "input = dataset[0][0]\n",
    "output = dataset[0][1]\n",
    "print(\"input\", input)\n",
    "print(\"output\", output)\n",
    "prediction = model.translate(model, input)\n",
    "print(\"prediction\", prediction)\n",
    "print(output == prediction, len(output), len(prediction))"
   ]
  }
 ],
 "metadata": {
  "kernelspec": {
   "display_name": "Python 3 (ipykernel)",
   "language": "python",
   "name": "python3"
  },
  "language_info": {
   "codemirror_mode": {
    "name": "ipython",
    "version": 3
   },
   "file_extension": ".py",
   "mimetype": "text/x-python",
   "name": "python",
   "nbconvert_exporter": "python",
   "pygments_lexer": "ipython3",
   "version": "3.8.11"
  }
 },
 "nbformat": 4,
 "nbformat_minor": 5
}
